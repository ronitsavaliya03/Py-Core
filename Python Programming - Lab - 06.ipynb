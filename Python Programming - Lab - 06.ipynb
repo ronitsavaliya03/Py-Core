{
 "cells": [
  {
   "cell_type": "markdown",
   "metadata": {},
   "source": [
    "<a href='https://www.darshan.ac.in/'> <img src='https://www.darshan.ac.in/Content/media/DU_Logo.svg' width=\"250\" height=\"300\"/></a>\n",
    "<pre>\n",
    "<center><b><h1>Python Programming - 2301CS404</b></center>\n",
    "<center><b><h1>Lab - 6</b></center>    \n",
    "<center><b><h1>Ronit Savaliya | 23010101247 | 31/12/2024</b></center>    \n",
    "<pre>"
   ]
  },
  {
   "cell_type": "markdown",
   "metadata": {},
   "source": [
    "# Tuple"
   ]
  },
  {
   "cell_type": "code",
   "execution_count": 8,
   "metadata": {},
   "outputs": [],
   "source": [
    "def createList():\n",
    "    n=int(input(\"Enter the Size of list:\"))\n",
    "    list=[]\n",
    "\n",
    "    for i in range(0,n):\n",
    "        element=int(input(\"Enter the element:\"))\n",
    "        list.append(element)\n",
    "\n",
    "    return list\n",
    "\n",
    "def createTuple():\n",
    "    n=int(input(\"Enter the Size of tuple:\"))\n",
    "    list=[]\n",
    "    \n",
    "    for i in range(n):\n",
    "        element=int(input(\"Enter the element:\"))\n",
    "        list.append(element)        \n",
    "\n",
    "    return tuple(list)\n",
    "\n",
    "def createListOfTuple():\n",
    "    n=int(input(\"Enter the Size of list:\"))\n",
    "    list=[]\n",
    "    \n",
    "    for i in range(n):\n",
    "        tuple=createTuple()\n",
    "        list.append(tuple)\n",
    "\n",
    "    return (list)\n",
    "\n",
    "def createTupleOfList():\n",
    "    n=int(input(\"Enter the Size of tuple:\"))\n",
    "    OList=[]\n",
    "    IList=[]\n",
    "    \n",
    "    for i in range(n):\n",
    "        IList=createList()\n",
    "        OList.append(IList)\n",
    "\n",
    "    return tuple(OList)"
   ]
  },
  {
   "cell_type": "markdown",
   "metadata": {},
   "source": [
    "### 01) WAP to find sum of tuple elements."
   ]
  },
  {
   "cell_type": "code",
   "execution_count": 4,
   "metadata": {},
   "outputs": [
    {
     "name": "stdout",
     "output_type": "stream",
     "text": [
      "Enter the size:5\n",
      "Enter the element:1\n",
      "Enter the element:2\n",
      "Enter the element:3\n",
      "Enter the element:4\n",
      "Enter the element:5\n",
      "15\n"
     ]
    }
   ],
   "source": [
    "tuple=createTuple()\n",
    "sum=0\n",
    "for i in tuple:\n",
    "    sum+=i\n",
    "    \n",
    "print(sum)"
   ]
  },
  {
   "cell_type": "markdown",
   "metadata": {},
   "source": [
    "### 02) WAP to find Maximum and Minimum K elements in a given tuple."
   ]
  },
  {
   "cell_type": "code",
   "execution_count": 3,
   "metadata": {},
   "outputs": [
    {
     "name": "stdout",
     "output_type": "stream",
     "text": [
      "Enter the size:5\n",
      "Enter the element:1\n",
      "Enter the element:2\n",
      "Enter the element:3\n",
      "Enter the element:5\n",
      "Enter the element:6\n",
      "Enter the k:2\n",
      "[1, 2]\n",
      "[5, 6]\n"
     ]
    }
   ],
   "source": [
    "tuple=createTuple()\n",
    "k = int(input(\"Enter the k:\"))\n",
    "\n",
    "list=sorted(tuple)\n",
    "\n",
    "min=list[:k]\n",
    "max=list[-k:]\n",
    "print(min)\n",
    "print(max)"
   ]
  },
  {
   "cell_type": "markdown",
   "metadata": {},
   "source": [
    "### 03) WAP to find tuples which have all elements divisible by K from a list of tuples."
   ]
  },
  {
   "cell_type": "code",
   "execution_count": 7,
   "metadata": {},
   "outputs": [
    {
     "name": "stdout",
     "output_type": "stream",
     "text": [
      "Enter the size:2\n",
      "Enter the size:1\n",
      "Enter the element:2\n",
      "Enter the size:3\n",
      "Enter the element:2\n",
      "Enter the element:4\n",
      "Enter the element:6\n",
      "Enter the k:2\n",
      "((2,), (2, 4, 6))\n"
     ]
    }
   ],
   "source": [
    "list=createListOfTuple()\n",
    "k = int(input(\"Enter the k:\"))\n",
    "\n",
    "ans=tuple(i for i in list if all(x%k==0 for x in i))\n",
    "print(ans)"
   ]
  },
  {
   "cell_type": "markdown",
   "metadata": {},
   "source": [
    "### 04) WAP to create a list of tuples from given list having number and its cube in each tuple.2"
   ]
  },
  {
   "cell_type": "code",
   "execution_count": 10,
   "metadata": {},
   "outputs": [
    {
     "name": "stdout",
     "output_type": "stream",
     "text": [
      "[(3, 27), (5, 125)]\n"
     ]
    }
   ],
   "source": [
    "list=createList()\n",
    "\n",
    "ans=[(num, num**3) for num in list]\n",
    "print(ans)"
   ]
  },
  {
   "cell_type": "markdown",
   "metadata": {},
   "source": [
    "### 05) WAP to find tuples with all positive elements from the given list of tuples."
   ]
  },
  {
   "cell_type": "code",
   "execution_count": 5,
   "metadata": {},
   "outputs": [
    {
     "name": "stdout",
     "output_type": "stream",
     "text": [
      "Enter the size: 2\n",
      "Enter the size: 1\n",
      "Enter the element: 2\n",
      "Enter the size: 2\n",
      "Enter the element: -4\n",
      "Enter the element: 2\n"
     ]
    },
    {
     "name": "stdout",
     "output_type": "stream",
     "text": [
      "((2,),)\n"
     ]
    }
   ],
   "source": [
    "list=createListOfTuple()\n",
    "\n",
    "ans=tuple(i for i in list if all(x>0 for x in i))\n",
    "print(ans)"
   ]
  },
  {
   "cell_type": "markdown",
   "metadata": {},
   "source": [
    "### 06) WAP to add tuple to list and vice – versa."
   ]
  },
  {
   "cell_type": "code",
   "execution_count": 7,
   "metadata": {},
   "outputs": [
    {
     "name": "stdout",
     "output_type": "stream",
     "text": [
      "([1, 2, 3], [5, 6])\n"
     ]
    }
   ],
   "source": [
    "list=createListOfTuple()\n",
    "print(list)\n",
    "\n",
    "tuple=createTupleOfList()\n",
    "print(tuple)"
   ]
  },
  {
   "cell_type": "markdown",
   "metadata": {},
   "source": [
    "### 07) WAP to remove tuples of length K."
   ]
  },
  {
   "cell_type": "code",
   "execution_count": 22,
   "metadata": {},
   "outputs": [
    {
     "name": "stdout",
     "output_type": "stream",
     "text": [
      "Enter the Size of list: 3\n",
      "Enter the Size of tuple: 1\n",
      "Enter the element: 1\n",
      "Enter the Size of tuple: 2\n",
      "Enter the element: 1\n",
      "Enter the element: 2\n",
      "Enter the Size of tuple: 1\n",
      "Enter the element: 3\n",
      "Enter the k: 1\n"
     ]
    },
    {
     "name": "stdout",
     "output_type": "stream",
     "text": [
      "Before: [(1,), (1, 2), (3,)]\n",
      "After: [(1, 2)]\n"
     ]
    }
   ],
   "source": [
    "list=createListOfTuple()\n",
    "\n",
    "k=int(input(\"Enter the k:\"))\n",
    "print(\"Before:\",list)\n",
    "for i in list:\n",
    "    if len(i)==k:\n",
    "        list.remove(i)\n",
    "\n",
    "print(\"After:\",list)"
   ]
  },
  {
   "cell_type": "markdown",
   "metadata": {},
   "source": [
    "### 08) WAP to remove duplicates from tuple."
   ]
  },
  {
   "cell_type": "code",
   "execution_count": 3,
   "metadata": {},
   "outputs": [
    {
     "name": "stdout",
     "output_type": "stream",
     "text": [
      "Enter the Size of tuple: 5\n",
      "Enter the element: 1\n",
      "Enter the element: 2\n",
      "Enter the element: 3\n",
      "Enter the element: 1\n",
      "Enter the element: 2\n"
     ]
    },
    {
     "name": "stdout",
     "output_type": "stream",
     "text": [
      "(1, 2, 3)\n"
     ]
    }
   ],
   "source": [
    "tup=createTuple()\n",
    "\n",
    "tup=tuple(set(tup))\n",
    "\n",
    "print(tup)"
   ]
  },
  {
   "cell_type": "markdown",
   "metadata": {},
   "source": [
    "### 09) WAP to multiply adjacent elements of a tuple and print that resultant tuple."
   ]
  },
  {
   "cell_type": "code",
   "execution_count": 7,
   "metadata": {},
   "outputs": [
    {
     "name": "stdout",
     "output_type": "stream",
     "text": [
      "Enter the Size of tuple: 4\n",
      "Enter the element: 2\n",
      "Enter the element: 4\n",
      "Enter the element: 6\n",
      "Enter the element: 5\n"
     ]
    },
    {
     "name": "stdout",
     "output_type": "stream",
     "text": [
      "(8, 24, 30)\n"
     ]
    }
   ],
   "source": [
    "tup=createTuple()\n",
    "\n",
    "li=list(tup)\n",
    "ans=[]\n",
    "for i in range(len(li)-1):\n",
    "    ans.append(li[i]*li[i+1])\n",
    "tup=tuple(ans)\n",
    "print(tup)"
   ]
  },
  {
   "cell_type": "markdown",
   "metadata": {},
   "source": [
    "### 10) WAP to test if the given tuple is distinct or not."
   ]
  },
  {
   "cell_type": "code",
   "execution_count": 9,
   "metadata": {},
   "outputs": [
    {
     "name": "stdout",
     "output_type": "stream",
     "text": [
      "Enter the Size of tuple: 6\n",
      "Enter the element: 2\n",
      "Enter the element: 3\n",
      "Enter the element: 2\n",
      "Enter the element: 3\n",
      "Enter the element: 2\n",
      "Enter the element: 3\n"
     ]
    },
    {
     "name": "stdout",
     "output_type": "stream",
     "text": [
      "(2, 3, 2, 3, 2, 3) is not distinct\n"
     ]
    }
   ],
   "source": [
    "tup=createTuple()\n",
    "ans=True\n",
    "\n",
    "di=dict.fromkeys(tup,0)\n",
    "\n",
    "for i in tup:\n",
    "    di[i]+=1\n",
    "    if di[i]>1:\n",
    "        ans=False\n",
    "        break\n",
    "\n",
    "if(ans):\n",
    "    print(tup,\"is distinct\")\n",
    "else:\n",
    "    print(tup,\"is not distinct\")"
   ]
  }
 ],
 "metadata": {
  "kernelspec": {
   "display_name": "Python 3",
   "language": "python",
   "name": "python3"
  },
  "language_info": {
   "codemirror_mode": {
    "name": "ipython",
    "version": 3
   },
   "file_extension": ".py",
   "mimetype": "text/x-python",
   "name": "python",
   "nbconvert_exporter": "python",
   "pygments_lexer": "ipython3",
   "version": "3.12.5"
  }
 },
 "nbformat": 4,
 "nbformat_minor": 4
}

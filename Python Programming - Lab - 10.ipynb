{
 "cells": [
  {
   "cell_type": "markdown",
   "metadata": {},
   "source": [
    "<a href='https://www.darshan.ac.in/'> <img src='https://www.darshan.ac.in/Content/media/DU_Logo.svg' width=\"250\" height=\"300\"/></a>\n",
    "<pre>\n",
    "<center><b><h1>Python Programming - 2301CS404</b></center>\n",
    "<center><b><h1>Lab - 10</b></center>    \n",
    "<center><b><h1>Ronit Savaliya | 23010101247 | 11/2/2025</b></center>\n",
    "<pre>"
   ]
  },
  {
   "cell_type": "markdown",
   "metadata": {},
   "source": [
    "# Exception Handling"
   ]
  },
  {
   "cell_type": "markdown",
   "metadata": {},
   "source": [
    "### 01) WAP to handle following exceptions:\n",
    "1. ZeroDivisionError\n",
    "2. ValueError\n",
    "3. TypeError\n",
    "#### Note: handle them using separate except blocks and also using single except block too."
   ]
  },
  {
   "cell_type": "code",
   "execution_count": null,
   "metadata": {},
   "outputs": [
    {
     "name": "stdout",
     "output_type": "stream",
     "text": [
      "Error: Division by Zero\n",
      "Error: Invalid Data Type\n",
      "Error: Invalid Input\n"
     ]
    }
   ],
   "source": [
    "try:\n",
    "    a = 11\n",
    "    b = 0\n",
    "    c = a /  b\n",
    "    print(c)\n",
    "except ZeroDivisionError:\n",
    "    print(\"Error: Division by Zero\")\n",
    "\n",
    "\n",
    "try:\n",
    "    a = 31\n",
    "    b = 'r'\n",
    "    c = a /  b\n",
    "    print(c)\n",
    "except TypeError:\n",
    "    print(\"Error: Invalid Data Type\")\n",
    "\n",
    "\n",
    "try:\n",
    "    a = int('hello!')\n",
    "    print(a)\n",
    "except ValueError:\n",
    "    print(\"Error: Invalid Input\")"
   ]
  },
  {
   "cell_type": "markdown",
   "metadata": {},
   "source": [
    "### 02)  WAP to handle following exceptions:\n",
    "1. IndexError\n",
    "2. KeyError"
   ]
  },
  {
   "cell_type": "code",
   "execution_count": 2,
   "metadata": {},
   "outputs": [
    {
     "name": "stdout",
     "output_type": "stream",
     "text": [
      "Error: Index out of range\n",
      "Error: Key not found\n"
     ]
    }
   ],
   "source": [
    "try:\n",
    "    list = [1, 2, 3, 4]\n",
    "    print(list[4])\n",
    "\n",
    "except IndexError:\n",
    "    print(\"Error: Index out of range\")\n",
    "\n",
    "try:\n",
    "    dict = {\"1\": 1, \"2\": 2, \"3\": 3}\n",
    "    print(dict[\"5\"])\n",
    "\n",
    "except KeyError:\n",
    "    print(\"Error: Key not found\")"
   ]
  },
  {
   "cell_type": "markdown",
   "metadata": {},
   "source": [
    "### 03) WAP to handle following exceptions:\n",
    "1. FileNotFoundError\n",
    "2. ModuleNotFoundError"
   ]
  },
  {
   "cell_type": "code",
   "execution_count": 4,
   "metadata": {},
   "outputs": [
    {
     "name": "stdout",
     "output_type": "stream",
     "text": [
      "The file does not exist.\n",
      "The module does not exist.\n"
     ]
    }
   ],
   "source": [
    "try:\n",
    "    file = open('python.txt', 'r')\n",
    "    print(file.read())\n",
    "except FileNotFoundError:\n",
    "    print(\"The file does not exist.\")\n",
    "\n",
    "\n",
    "try:\n",
    "    import cobra\n",
    "    print(\"Module imported successfully.\")\n",
    "\n",
    "except ModuleNotFoundError:\n",
    "    print(\"The module does not exist.\")"
   ]
  },
  {
   "cell_type": "markdown",
   "metadata": {},
   "source": [
    "### 04) WAP that catches all type of exceptions in a single except block."
   ]
  },
  {
   "cell_type": "code",
   "execution_count": 7,
   "metadata": {},
   "outputs": [
    {
     "name": "stdout",
     "output_type": "stream",
     "text": [
      "Division completed successfully.\n",
      "Division completed successfully.\n",
      "An error occurred: invalid literal for int() with base 10: 'hello!'\n"
     ]
    }
   ],
   "source": [
    "try:\n",
    "    a = 11\n",
    "    b = 'r'\n",
    "    # c = a / b\n",
    "    # print(c)\n",
    "    print(\"Division completed successfully.\")\n",
    "    a = 31\n",
    "    b = 0\n",
    "    # c = a /  b\n",
    "    # print(c)\n",
    "    print(\"Division completed successfully.\")\n",
    "    a = int('hello!')\n",
    "    print(a)\n",
    "    lst = [1, 2, 3, 4]\n",
    "    print(lst[4])\n",
    "    dict = {\"1\": 1, \"2\": 2, \"3\": 3}\n",
    "    print(dict[\"5\"])\n",
    "    file = open('python.txt', 'r')\n",
    "    print(file.read())\n",
    "    import cobra\n",
    "    print(\"Module imported successfully.\")\n",
    "\n",
    "    file = open('python.txt', 'r')\n",
    "    print(file.read())\n",
    "    print(\"File opened successfully.\")\n",
    "\n",
    "\n",
    "\n",
    "except Exception as e:\n",
    "    print(\"An error occurred:\", e)"
   ]
  },
  {
   "cell_type": "markdown",
   "metadata": {},
   "source": [
    "### 05) WAP to demonstrate else  and finally block."
   ]
  },
  {
   "cell_type": "code",
   "execution_count": 12,
   "metadata": {},
   "outputs": [
    {
     "name": "stdout",
     "output_type": "stream",
     "text": [
      "Error: Division by Zero\n",
      "Finally block executed.\n"
     ]
    }
   ],
   "source": [
    "try:\n",
    "    a = 11\n",
    "    b = 0\n",
    "    c = a / b\n",
    "    print(\"Division completed successfully.\")\n",
    "\n",
    "except ZeroDivisionError:\n",
    "    print(\"Error: Division by Zero\")\n",
    "else:\n",
    "    print(c)\n",
    "finally:\n",
    "    print(\"Finally block executed.\")"
   ]
  },
  {
   "cell_type": "markdown",
   "metadata": {},
   "source": [
    "### 06) Create a short program that prompts the user for a list of grades separated by commas. \n",
    "### Split the string into individual grades and use a list comprehension to convert each string to an integer. \n",
    "### You should use a try statement to inform the user when the values they entered cannot be converted."
   ]
  },
  {
   "cell_type": "code",
   "execution_count": 16,
   "metadata": {},
   "outputs": [
    {
     "name": "stdout",
     "output_type": "stream",
     "text": [
      "Enter a list of grades separated by commas\n",
      "['11', '22', 'asdf', '99']\n",
      "Error: Invalid Input\n"
     ]
    }
   ],
   "source": [
    "print(\"Enter a list of grades separated by commas\")\n",
    "grades = input()\n",
    "\n",
    "grades = grades.split(',')\n",
    "print(grades)\n",
    "try:\n",
    "    grades = [int(grade) for grade in grades]\n",
    "    print(grades)\n",
    "    total = sum(grades)\n",
    "    print(total)\n",
    "\n",
    "except ValueError:\n",
    "    print(\"Error: Invalid Input\")"
   ]
  },
  {
   "cell_type": "markdown",
   "metadata": {},
   "source": [
    "### 07) WAP to create an udf divide(a,b) that handles ZeroDivisionError."
   ]
  },
  {
   "cell_type": "code",
   "execution_count": 17,
   "metadata": {},
   "outputs": [
    {
     "name": "stdout",
     "output_type": "stream",
     "text": [
      "0.75\n",
      "Error: Division by zero is not allowed\n"
     ]
    }
   ],
   "source": [
    "def divide(a,b):\n",
    "    try:\n",
    "        return a / b\n",
    "    except ZeroDivisionError:\n",
    "        return \"Error: Division by zero is not allowed\"\n",
    "    \n",
    "\n",
    "print(divide(6,8))\n",
    "\n",
    "print(divide(6,0))"
   ]
  },
  {
   "cell_type": "markdown",
   "metadata": {},
   "source": [
    "### 08) WAP that gets an age of a person form the user and raises ValueError with error message: \"Enter Valid Age\" :\n",
    "#### If the age is less than 18. \n",
    "#### otherwise print the age."
   ]
  },
  {
   "cell_type": "code",
   "execution_count": 18,
   "metadata": {},
   "outputs": [
    {
     "name": "stdout",
     "output_type": "stream",
     "text": [
      "Finally block executed.\n",
      "Age: 34\n"
     ]
    },
    {
     "ename": "ValueError",
     "evalue": "Enter Valid Age",
     "output_type": "error",
     "traceback": [
      "\u001b[1;31m---------------------------------------------------------------------------\u001b[0m",
      "\u001b[1;31mValueError\u001b[0m                                Traceback (most recent call last)",
      "Cell \u001b[1;32mIn[18], line 12\u001b[0m\n\u001b[0;32m      9\u001b[0m     \u001b[38;5;28mprint\u001b[39m(\u001b[38;5;124m\"\u001b[39m\u001b[38;5;124mFinally block executed.\u001b[39m\u001b[38;5;124m\"\u001b[39m)\n\u001b[0;32m     11\u001b[0m getage(\u001b[38;5;241m34\u001b[39m)\n\u001b[1;32m---> 12\u001b[0m \u001b[43mgetage\u001b[49m\u001b[43m(\u001b[49m\u001b[38;5;241;43m17\u001b[39;49m\u001b[43m)\u001b[49m\n",
      "Cell \u001b[1;32mIn[18], line 4\u001b[0m, in \u001b[0;36mgetage\u001b[1;34m(a)\u001b[0m\n\u001b[0;32m      2\u001b[0m \u001b[38;5;28;01mdef\u001b[39;00m \u001b[38;5;21mgetage\u001b[39m(a):\n\u001b[0;32m      3\u001b[0m     \u001b[38;5;28;01mif\u001b[39;00m a \u001b[38;5;241m<\u001b[39m \u001b[38;5;241m18\u001b[39m:\n\u001b[1;32m----> 4\u001b[0m         \u001b[38;5;28;01mraise\u001b[39;00m \u001b[38;5;167;01mValueError\u001b[39;00m(\u001b[38;5;124m\"\u001b[39m\u001b[38;5;124mEnter Valid Age\u001b[39m\u001b[38;5;124m\"\u001b[39m)\n\u001b[0;32m      5\u001b[0m     \u001b[38;5;28;01melse\u001b[39;00m:\n\u001b[0;32m      6\u001b[0m         \u001b[38;5;28mprint\u001b[39m(\u001b[38;5;124m\"\u001b[39m\u001b[38;5;124mAge:\u001b[39m\u001b[38;5;124m\"\u001b[39m, a)\n",
      "\u001b[1;31mValueError\u001b[0m: Enter Valid Age"
     ]
    }
   ],
   "source": [
    "try:\n",
    "    def getage(a):\n",
    "        if a < 18:\n",
    "            raise ValueError(\"Enter Valid Age\")\n",
    "        else:\n",
    "            print(\"Age:\", a)\n",
    "\n",
    "finally:\n",
    "    print(\"Finally block executed.\")\n",
    "\n",
    "getage(34)\n",
    "getage(17)"
   ]
  },
  {
   "cell_type": "markdown",
   "metadata": {},
   "source": [
    "### 09) WAP to raise your custom Exception named InvalidUsernameError with the error message : \"Username must be between 5 and 15 characters long\":\n",
    "#### if the given name is having characters less than 5 or greater than 15.\n",
    "#### otherwise print the given username."
   ]
  },
  {
   "cell_type": "code",
   "execution_count": 20,
   "metadata": {},
   "outputs": [
    {
     "ename": "InvalidUsernameError",
     "evalue": "Username must be between 5 and 15 characters long",
     "output_type": "error",
     "traceback": [
      "\u001b[1;31m---------------------------------------------------------------------------\u001b[0m",
      "\u001b[1;31mInvalidUsernameError\u001b[0m                      Traceback (most recent call last)",
      "Cell \u001b[1;32mIn[20], line 11\u001b[0m\n\u001b[0;32m      8\u001b[0m     \u001b[38;5;28;01melse\u001b[39;00m:\n\u001b[0;32m      9\u001b[0m         \u001b[38;5;28mprint\u001b[39m(\u001b[38;5;124m\"\u001b[39m\u001b[38;5;124mUsername:\u001b[39m\u001b[38;5;124m\"\u001b[39m, username)\n\u001b[1;32m---> 11\u001b[0m \u001b[43mvalidate_username\u001b[49m\u001b[43m(\u001b[49m\u001b[38;5;124;43m\"\u001b[39;49m\u001b[38;5;124;43mroni\u001b[39;49m\u001b[38;5;124;43m\"\u001b[39;49m\u001b[43m)\u001b[49m\n",
      "Cell \u001b[1;32mIn[20], line 7\u001b[0m, in \u001b[0;36mvalidate_username\u001b[1;34m(username)\u001b[0m\n\u001b[0;32m      5\u001b[0m \u001b[38;5;28;01mdef\u001b[39;00m \u001b[38;5;21mvalidate_username\u001b[39m(username):\n\u001b[0;32m      6\u001b[0m     \u001b[38;5;28;01mif\u001b[39;00m \u001b[38;5;28mlen\u001b[39m(username) \u001b[38;5;241m<\u001b[39m \u001b[38;5;241m5\u001b[39m \u001b[38;5;129;01mor\u001b[39;00m \u001b[38;5;28mlen\u001b[39m(username) \u001b[38;5;241m>\u001b[39m \u001b[38;5;241m15\u001b[39m:\n\u001b[1;32m----> 7\u001b[0m         \u001b[38;5;28;01mraise\u001b[39;00m InvalidUsernameError(\u001b[38;5;124m\"\u001b[39m\u001b[38;5;124mUsername must be between 5 and 15 characters long\u001b[39m\u001b[38;5;124m\"\u001b[39m)\n\u001b[0;32m      8\u001b[0m     \u001b[38;5;28;01melse\u001b[39;00m:\n\u001b[0;32m      9\u001b[0m         \u001b[38;5;28mprint\u001b[39m(\u001b[38;5;124m\"\u001b[39m\u001b[38;5;124mUsername:\u001b[39m\u001b[38;5;124m\"\u001b[39m, username)\n",
      "\u001b[1;31mInvalidUsernameError\u001b[0m: Username must be between 5 and 15 characters long"
     ]
    }
   ],
   "source": [
    "class InvalidUsernameError(Exception):\n",
    "    def __init__(self, message):\n",
    "        super().__init__(message)\n",
    "\n",
    "def validate_username(username):\n",
    "    if len(username) < 5 or len(username) > 15:\n",
    "        raise InvalidUsernameError(\"Username must be between 5 and 15 characters long\")\n",
    "    else:\n",
    "        print(\"Username:\", username)\n",
    "\n",
    "validate_username(\"roni\")"
   ]
  },
  {
   "cell_type": "markdown",
   "metadata": {},
   "source": [
    "### 10) WAP to raise your custom Exception named NegativeNumberError with the error message : \"Cannot calculate the square root of a negative number\" :\n",
    "#### if the given number is negative.\n",
    "#### otherwise print the square root of the given number."
   ]
  },
  {
   "cell_type": "code",
   "execution_count": 23,
   "metadata": {},
   "outputs": [
    {
     "ename": "NegativeNumberError",
     "evalue": "Cannot calculate the square root of a negative number",
     "output_type": "error",
     "traceback": [
      "\u001b[1;31m---------------------------------------------------------------------------\u001b[0m",
      "\u001b[1;31mNegativeNumberError\u001b[0m                       Traceback (most recent call last)",
      "Cell \u001b[1;32mIn[23], line 11\u001b[0m\n\u001b[0;32m      8\u001b[0m     \u001b[38;5;28;01melse\u001b[39;00m:\n\u001b[0;32m      9\u001b[0m         \u001b[38;5;28;01mreturn\u001b[39;00m number \u001b[38;5;241m*\u001b[39m\u001b[38;5;241m*\u001b[39m \u001b[38;5;241m0.5\u001b[39m\n\u001b[1;32m---> 11\u001b[0m \u001b[43mroot\u001b[49m\u001b[43m(\u001b[49m\u001b[38;5;241;43m-\u001b[39;49m\u001b[38;5;241;43m8\u001b[39;49m\u001b[43m)\u001b[49m\n",
      "Cell \u001b[1;32mIn[23], line 7\u001b[0m, in \u001b[0;36mroot\u001b[1;34m(number)\u001b[0m\n\u001b[0;32m      5\u001b[0m \u001b[38;5;28;01mdef\u001b[39;00m \u001b[38;5;21mroot\u001b[39m(number):\n\u001b[0;32m      6\u001b[0m     \u001b[38;5;28;01mif\u001b[39;00m number \u001b[38;5;241m<\u001b[39m \u001b[38;5;241m0\u001b[39m:\n\u001b[1;32m----> 7\u001b[0m         \u001b[38;5;28;01mraise\u001b[39;00m NegativeNumberError(\u001b[38;5;124m\"\u001b[39m\u001b[38;5;124mCannot calculate the square root of a negative number\u001b[39m\u001b[38;5;124m\"\u001b[39m)\n\u001b[0;32m      8\u001b[0m     \u001b[38;5;28;01melse\u001b[39;00m:\n\u001b[0;32m      9\u001b[0m         \u001b[38;5;28;01mreturn\u001b[39;00m number \u001b[38;5;241m*\u001b[39m\u001b[38;5;241m*\u001b[39m \u001b[38;5;241m0.5\u001b[39m\n",
      "\u001b[1;31mNegativeNumberError\u001b[0m: Cannot calculate the square root of a negative number"
     ]
    }
   ],
   "source": [
    "class NegativeNumberError(Exception):\n",
    "    def __init__(self, message):\n",
    "        super().__init__(message)\n",
    "\n",
    "def root(number):\n",
    "    if number < 0:\n",
    "        raise NegativeNumberError(\"Cannot calculate the square root of a negative number\")\n",
    "    else:\n",
    "        return number ** 0.5\n",
    "\n",
    "root(-8)\n"
   ]
  }
 ],
 "metadata": {
  "kernelspec": {
   "display_name": "Python 3",
   "language": "python",
   "name": "python3"
  },
  "language_info": {
   "codemirror_mode": {
    "name": "ipython",
    "version": 3
   },
   "file_extension": ".py",
   "mimetype": "text/x-python",
   "name": "python",
   "nbconvert_exporter": "python",
   "pygments_lexer": "ipython3",
   "version": "3.12.5"
  }
 },
 "nbformat": 4,
 "nbformat_minor": 4
}

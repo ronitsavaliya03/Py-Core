{
 "cells": [
  {
   "cell_type": "markdown",
   "metadata": {},
   "source": [
    "<a href='https://www.darshan.ac.in/'> <img src='https://www.darshan.ac.in/Content/media/DU_Logo.svg' width=\"250\" height=\"300\"/></a>\n",
    "<pre>\n",
    "<center><b><h1>Python Programming - 2301CS404</b></center>\n",
    "<center><b><h1>Lab - 6</b></center>    \n",
    "<pre>"
   ]
  },
  {
   "cell_type": "markdown",
   "metadata": {},
   "source": [
    "# Tuple"
   ]
  },
  {
   "cell_type": "code",
   "execution_count": 6,
   "metadata": {},
   "outputs": [],
   "source": [
    "def createTuple():\n",
    "    n=int(input(\"Enter the size:\"))\n",
    "    list=[]\n",
    "    \n",
    "    for i in range(n):\n",
    "        element=int(input(\"Enter the element:\"))\n",
    "        list.append(element)        \n",
    "\n",
    "    return tuple(list)\n",
    "\n",
    "def createList():\n",
    "    n=int(input(\"Enter the size:\"))\n",
    "    list=[]\n",
    "    \n",
    "    for i in range(n):\n",
    "        tuple=createTuple()\n",
    "        list.append(tuple)\n",
    "\n",
    "    return (list)"
   ]
  },
  {
   "cell_type": "markdown",
   "metadata": {},
   "source": [
    "### 01) WAP to find sum of tuple elements."
   ]
  },
  {
   "cell_type": "code",
   "execution_count": 4,
   "metadata": {},
   "outputs": [
    {
     "name": "stdout",
     "output_type": "stream",
     "text": [
      "Enter the size:5\n",
      "Enter the element:1\n",
      "Enter the element:2\n",
      "Enter the element:3\n",
      "Enter the element:4\n",
      "Enter the element:5\n",
      "15\n"
     ]
    }
   ],
   "source": [
    "tuple=createTuple()\n",
    "sum=0\n",
    "for i in tuple:\n",
    "    sum+=i\n",
    "    \n",
    "print(sum)"
   ]
  },
  {
   "cell_type": "markdown",
   "metadata": {},
   "source": [
    "### 02) WAP to find Maximum and Minimum K elements in a given tuple."
   ]
  },
  {
   "cell_type": "code",
   "execution_count": 3,
   "metadata": {},
   "outputs": [
    {
     "name": "stdout",
     "output_type": "stream",
     "text": [
      "Enter the size:5\n",
      "Enter the element:1\n",
      "Enter the element:2\n",
      "Enter the element:3\n",
      "Enter the element:5\n",
      "Enter the element:6\n",
      "Enter the k:2\n",
      "[1, 2]\n",
      "[5, 6]\n"
     ]
    }
   ],
   "source": [
    "tuple=createTuple()\n",
    "k = int(input(\"Enter the k:\"))\n",
    "\n",
    "list=sorted(tuple)\n",
    "\n",
    "min=list[:k]\n",
    "max=list[k+1:]\n",
    "print(min)\n",
    "print(max)"
   ]
  },
  {
   "cell_type": "markdown",
   "metadata": {},
   "source": [
    "### 03) WAP to find tuples which have all elements divisible by K from a list of tuples."
   ]
  },
  {
   "cell_type": "code",
   "execution_count": 7,
   "metadata": {},
   "outputs": [
    {
     "name": "stdout",
     "output_type": "stream",
     "text": [
      "Enter the size:2\n",
      "Enter the size:1\n",
      "Enter the element:2\n",
      "Enter the size:3\n",
      "Enter the element:2\n",
      "Enter the element:4\n",
      "Enter the element:6\n",
      "Enter the k:2\n",
      "((2,), (2, 4, 6))\n"
     ]
    }
   ],
   "source": [
    "list=createList()\n",
    "k = int(input(\"Enter the k:\"))\n",
    "\n",
    "ans=tuple(i for i in list if all(x%k==0 for x in i))\n",
    "print(ans)"
   ]
  },
  {
   "cell_type": "markdown",
   "metadata": {},
   "source": [
    "### 04) WAP to create a list of tuples from given list having number and its cube in each tuple."
   ]
  },
  {
   "cell_type": "code",
   "execution_count": null,
   "metadata": {},
   "outputs": [],
   "source": [
    "list=createList()\n",
    "\n",
    "ans=tuple(i for i in list if (x%k==0 for x in i))"
   ]
  },
  {
   "cell_type": "markdown",
   "metadata": {},
   "source": [
    "### 05) WAP to find tuples with all positive elements from the given list of tuples."
   ]
  },
  {
   "cell_type": "code",
   "execution_count": null,
   "metadata": {},
   "outputs": [],
   "source": []
  },
  {
   "cell_type": "markdown",
   "metadata": {},
   "source": [
    "### 06) WAP to add tuple to list and vice – versa."
   ]
  },
  {
   "cell_type": "code",
   "execution_count": null,
   "metadata": {},
   "outputs": [],
   "source": []
  },
  {
   "cell_type": "markdown",
   "metadata": {},
   "source": [
    "### 07) WAP to remove tuples of length K."
   ]
  },
  {
   "cell_type": "code",
   "execution_count": null,
   "metadata": {},
   "outputs": [],
   "source": []
  },
  {
   "cell_type": "markdown",
   "metadata": {},
   "source": [
    "### 08) WAP to remove duplicates from tuple."
   ]
  },
  {
   "cell_type": "code",
   "execution_count": null,
   "metadata": {},
   "outputs": [],
   "source": []
  },
  {
   "cell_type": "markdown",
   "metadata": {},
   "source": [
    "### 09) WAP to multiply adjacent elements of a tuple and print that resultant tuple."
   ]
  },
  {
   "cell_type": "code",
   "execution_count": null,
   "metadata": {},
   "outputs": [],
   "source": []
  },
  {
   "cell_type": "markdown",
   "metadata": {},
   "source": [
    "### 10) WAP to test if the given tuple is distinct or not."
   ]
  },
  {
   "cell_type": "code",
   "execution_count": null,
   "metadata": {},
   "outputs": [],
   "source": []
  }
 ],
 "metadata": {
  "kernelspec": {
   "display_name": "Python 3 (ipykernel)",
   "language": "python",
   "name": "python3"
  },
  "language_info": {
   "codemirror_mode": {
    "name": "ipython",
    "version": 3
   },
   "file_extension": ".py",
   "mimetype": "text/x-python",
   "name": "python",
   "nbconvert_exporter": "python",
   "pygments_lexer": "ipython3",
   "version": "3.10.9"
  }
 },
 "nbformat": 4,
 "nbformat_minor": 4
}

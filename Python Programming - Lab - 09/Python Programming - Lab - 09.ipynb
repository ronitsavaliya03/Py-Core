{
 "cells": [
  {
   "cell_type": "markdown",
   "metadata": {},
   "source": [
    "<a href='https://www.darshan.ac.in/'> <img src='https://www.darshan.ac.in/Content/media/DU_Logo.svg' width=\"250\" height=\"300\"/></a>\n",
    "<pre>\n",
    "<center><b><h1>Python Programming - 2301CS404</b></center>\n",
    "<center><b><h1>Lab - 9</b></center> \n",
    "<center><b><h1>Ronit Savaliya | 23010101247 | 4/2/2025</b></center>    \n",
    "<pre>"
   ]
  },
  {
   "cell_type": "markdown",
   "metadata": {},
   "source": [
    "# File I/O"
   ]
  },
  {
   "cell_type": "markdown",
   "metadata": {},
   "source": [
    "### 01) WAP to read and display the contents of a text file. (also try to open the file in some other directory) \n",
    "#### - in the form of a string\n",
    "#### - line by line\n",
    "#### - in the form of a list"
   ]
  },
  {
   "cell_type": "code",
   "execution_count": 17,
   "metadata": {},
   "outputs": [
    {
     "name": "stdout",
     "output_type": "stream",
     "text": [
      "hi, my name is james\n",
      "I am a man who have courage to fight agains the world\n",
      "hi, my name is james\n",
      "\n",
      "['hi, my name is james\\n', 'I am a man who have courage to fight agains the world']\n"
     ]
    }
   ],
   "source": [
    "fp=open(\"new.txt\", \"r\")\n",
    "print(fp.read())\n",
    "fp.seek(0, 0)\n",
    "print(fp.readline())\n",
    "fp.seek(0, 0)\n",
    "print(fp.readlines())\n",
    "fp.close()"
   ]
  },
  {
   "cell_type": "markdown",
   "metadata": {},
   "source": [
    "### 02) WAP to create file named \"new.txt\" only if it doesn't exist."
   ]
  },
  {
   "cell_type": "code",
   "execution_count": 9,
   "metadata": {},
   "outputs": [],
   "source": [
    "list=[\"hi, my name is james\\n\", \"I am a man who have courage to fight agains the world\"]\n",
    "fp=open(\"new.txt\", \"w\")\n",
    "fp.writelines(list)"
   ]
  },
  {
   "cell_type": "markdown",
   "metadata": {},
   "source": [
    "### 03) WAP to read first 5 lines from the text file."
   ]
  },
  {
   "cell_type": "code",
   "execution_count": 25,
   "metadata": {},
   "outputs": [
    {
     "name": "stdout",
     "output_type": "stream",
     "text": [
      "hi, my name is james\n",
      "\n",
      "I am a man who have courage to fight agains the world\n",
      "\n",
      "qwerty\n",
      "\n",
      "asdfghj\n",
      "\n",
      "zxcvbnbnn\n",
      "\n"
     ]
    }
   ],
   "source": [
    "fp=open(\"new.txt\", \"r\")\n",
    "for i in range(5):\n",
    "    print(fp.readline())"
   ]
  },
  {
   "cell_type": "markdown",
   "metadata": {},
   "source": [
    "### 04) WAP to find the longest word(s) in a file"
   ]
  },
  {
   "cell_type": "code",
   "execution_count": 3,
   "metadata": {},
   "outputs": [
    {
     "name": "stdout",
     "output_type": "stream",
     "text": [
      "Longest word(s): ['zxcvbnbnn']\n"
     ]
    }
   ],
   "source": [
    "\n",
    "with open('new2.txt', 'r') as file:\n",
    "    words = file.read().split()  \n",
    "    max_length = max(len(word) for word in words)  \n",
    "    longest_words = [word for word in words if len(word) == max_length]  \n",
    "    print(\"Longest word(s):\", longest_words)"
   ]
  },
  {
   "cell_type": "markdown",
   "metadata": {},
   "source": [
    "### 05) WAP to count the no. of lines, words and characters in a given text file."
   ]
  },
  {
   "cell_type": "code",
   "execution_count": 39,
   "metadata": {},
   "outputs": [
    {
     "name": "stdout",
     "output_type": "stream",
     "text": [
      "5\n",
      "20\n",
      "100\n"
     ]
    }
   ],
   "source": [
    "fp=open(\"new.txt\", \"r\")\n",
    "\n",
    "list=fp.readlines()\n",
    "lines=len(list)\n",
    "print(lines)\n",
    "\n",
    "fp.seek(0, 0)\n",
    "str=fp.read()\n",
    "words=len(str.split())\n",
    "print(words)\n",
    "\n",
    "fp.seek(0, 0)\n",
    "char=len(str)\n",
    "print(char)\n",
    "\n",
    "fp.close()"
   ]
  },
  {
   "cell_type": "markdown",
   "metadata": {},
   "source": [
    "### 06) WAP to copy the content of a file to the another file."
   ]
  },
  {
   "cell_type": "code",
   "execution_count": 43,
   "metadata": {},
   "outputs": [],
   "source": [
    "fp=open(\"new.txt\", \"r\")\n",
    "fp2=open(\"new2.txt\", \"w\")\n",
    "\n",
    "fp2.write(fp.read())\n",
    "fp.close()"
   ]
  },
  {
   "cell_type": "markdown",
   "metadata": {},
   "source": [
    "### 07) WAP to find the size of the text file. "
   ]
  },
  {
   "cell_type": "code",
   "execution_count": 51,
   "metadata": {},
   "outputs": [
    {
     "name": "stdout",
     "output_type": "stream",
     "text": [
      "100\n"
     ]
    }
   ],
   "source": [
    "fp=open(\"new.txt\", \"r\")\n",
    "fp.seek(0, 0)\n",
    "char=len(str)\n",
    "print(char)"
   ]
  },
  {
   "cell_type": "markdown",
   "metadata": {},
   "source": [
    "### 08) WAP to create an UDF named frequency to count occurances of the specific word in a given text file."
   ]
  },
  {
   "cell_type": "code",
   "execution_count": 49,
   "metadata": {},
   "outputs": [
    {
     "name": "stdout",
     "output_type": "stream",
     "text": [
      "1\n"
     ]
    }
   ],
   "source": [
    "def find_frequency(fp, word):\n",
    "    count=0\n",
    "    str=fp.read()\n",
    "    words=str.split().lower()\n",
    "    for i in words:\n",
    "        if i==word: count+=1\n",
    "\n",
    "    return count\n",
    "\n",
    "fp=open(\"new.txt\", \"r\")\n",
    "print(find_frequency(fp, 'man'))"
   ]
  },
  {
   "cell_type": "markdown",
   "metadata": {},
   "source": [
    "### 09) WAP to get the score of five subjects from the user, store them in a file. Fetch those marks and find the highest score."
   ]
  },
  {
   "cell_type": "code",
   "execution_count": 17,
   "metadata": {},
   "outputs": [
    {
     "name": "stdout",
     "output_type": "stream",
     "text": [
      "\n",
      "Stored Scores: [52, 63, 45, 96, 32]\n",
      "Highest Score: 96\n"
     ]
    }
   ],
   "source": [
    "file_path = \"marks.txt\"\n",
    "\n",
    "scores = []\n",
    "for i in range(1, 6):\n",
    "    score = int(input(f\"Enter marks for subject {i}: \"))\n",
    "    scores.append(score)\n",
    "\n",
    "with open(file_path, 'w') as file:\n",
    "    file.write(\" \".join(map(str, scores))) \n",
    "\n",
    "with open(file_path, 'r') as file:\n",
    "    fetched_scores = list(map(int, file.read().split()))  \n",
    "    \n",
    "highest_score = max(fetched_scores)\n",
    "\n",
    "print(\"\\nStored Scores:\", fetched_scores)\n",
    "print(\"Highest Score:\", highest_score)\n"
   ]
  },
  {
   "cell_type": "markdown",
   "metadata": {},
   "source": [
    "### 10) WAP to write first 100 prime numbers to a file named primenumbers.txt \n",
    "(Note: each number should be in new line)"
   ]
  },
  {
   "cell_type": "code",
   "execution_count": 1,
   "metadata": {},
   "outputs": [
    {
     "name": "stdout",
     "output_type": "stream",
     "text": [
      "\n"
     ]
    }
   ],
   "source": [
    "import math\n",
    "def write_primenumbers(fp):\n",
    "    primes=[]\n",
    "    n=2\n",
    "    while len(primes)<100:\n",
    "        if isPrime(n):\n",
    "            primes.append(n)\n",
    "            fp.write(str(n)+'\\n')\n",
    "        n+=1\n",
    "\n",
    "def isPrime(n):\n",
    "    for i in range(2,int(math.sqrt(n))+1):\n",
    "        if n%i==0:\n",
    "            return False\n",
    "    return True\n",
    "\n",
    "fp=open('primenumbers.txt', 'a+')\n",
    "write_primenumbers(fp)\n",
    "print(fp.read())\n",
    "fp.close()    "
   ]
  },
  {
   "cell_type": "markdown",
   "metadata": {},
   "source": [
    "### 11) WAP to merge two files and write it in a new file."
   ]
  },
  {
   "cell_type": "code",
   "execution_count": 21,
   "metadata": {},
   "outputs": [
    {
     "data": {
      "text/plain": [
       "100"
      ]
     },
     "execution_count": 21,
     "metadata": {},
     "output_type": "execute_result"
    }
   ],
   "source": [
    "fp1=open(\"new.txt\")\n",
    "fp2=open(\"new2.txt\")\n",
    "fp3=open(\"merge.txt\", \"a+\")\n",
    "\n",
    "fp3.write(fp1.read())\n",
    "fp3.write(fp2.read())"
   ]
  },
  {
   "cell_type": "markdown",
   "metadata": {},
   "source": [
    "### 12) WAP to replace word1 by word2 of a text file. Write the updated data to new file."
   ]
  },
  {
   "cell_type": "code",
   "execution_count": 13,
   "metadata": {},
   "outputs": [],
   "source": [
    "fp=open(\"new2.txt\", \"r+\")\n",
    "\n",
    "new_content=fp.read().replace('ronit', 'Ronniet')\n",
    "\n",
    "fp=open('new2.txt', 'w')\n",
    "\n",
    "fp.write(new_content)\n",
    "\n",
    "fp.close()"
   ]
  },
  {
   "cell_type": "markdown",
   "metadata": {},
   "source": [
    "### 13) Demonstrate tell() and seek() for all the cases(seek from beginning-end-current position) taking a suitable example of your choice."
   ]
  },
  {
   "cell_type": "code",
   "execution_count": 16,
   "metadata": {},
   "outputs": [
    {
     "name": "stdout",
     "output_type": "stream",
     "text": [
      "Initial position: 0\n",
      "Position after seeking to end: 250\n",
      "Position after seeking to beginning: 0\n",
      "Position after seeking 5 bytes from current position: 5\n"
     ]
    }
   ],
   "source": [
    "fp = open('merge.txt', 'rb')\n",
    "\n",
    "print('Initial position:', fp.tell())\n",
    "\n",
    "fp.seek(0, 2)\n",
    "print('Position after seeking to end:', fp.tell())\n",
    "\n",
    "fp.seek(0, 0)\n",
    "print('Position after seeking to beginning:', fp.tell())\n",
    "\n",
    "fp.seek(5, 1) \n",
    "print('Position after seeking 5 bytes from current position:', fp.tell())\n",
    "\n",
    "fp.close()"
   ]
  }
 ],
 "metadata": {
  "kernelspec": {
   "display_name": "Python 3",
   "language": "python",
   "name": "python3"
  },
  "language_info": {
   "codemirror_mode": {
    "name": "ipython",
    "version": 3
   },
   "file_extension": ".py",
   "mimetype": "text/x-python",
   "name": "python",
   "nbconvert_exporter": "python",
   "pygments_lexer": "ipython3",
   "version": "3.12.5"
  }
 },
 "nbformat": 4,
 "nbformat_minor": 4
}

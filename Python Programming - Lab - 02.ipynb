{
 "cells": [
  {
   "cell_type": "markdown",
   "metadata": {},
   "source": [
    "\n",
    "<a href='https://www.darshan.ac.in/'> <img src='https://www.darshan.ac.in/Content/media/DU_Logo.svg' width=\"250\" height=\"10\"/></a>\n",
    "<pre>\n",
    "<center><b><h1>Python Programming - 2301CS404</b></center>\n",
    "<center><b><h1>Lab - 2</b></center> \n",
    "<center><b><h1>Ronit Savaliya | 23010101247 | 3/12/2024</b></center>    \n",
    "<pre>"
   ]
  },
  {
   "cell_type": "markdown",
   "metadata": {},
   "source": [
    "# if..else.."
   ]
  },
  {
   "cell_type": "markdown",
   "metadata": {},
   "source": [
    "### 01) WAP to check whether the given number is positive or negative."
   ]
  },
  {
   "cell_type": "code",
   "execution_count": 1,
   "metadata": {},
   "outputs": [
    {
     "name": "stdout",
     "output_type": "stream",
     "text": [
      "Enter the number: 5\n"
     ]
    },
    {
     "name": "stdout",
     "output_type": "stream",
     "text": [
      "Number is positive\n"
     ]
    }
   ],
   "source": [
    "x = int(input(\"Enter the number:\"))\n",
    "\n",
    "if(x>0):\n",
    "    print(\"Number is positive\")\n",
    "else:\n",
    "    print(\"Number is negative\")"
   ]
  },
  {
   "cell_type": "markdown",
   "metadata": {},
   "source": [
    "### 02) WAP to check whether the given number is odd or even."
   ]
  },
  {
   "cell_type": "code",
   "execution_count": null,
   "metadata": {},
   "outputs": [],
   "source": [
    "x = int(input(\"Enter the number:\"))\n",
    "\n",
    "if(x%2==0):\n",
    "    print(\"Number is even\")\n",
    "else:\n",
    "    print(\"Number is odd\")"
   ]
  },
  {
   "cell_type": "markdown",
   "metadata": {},
   "source": [
    "### 03) WAP to find out largest number from given two numbers using simple if and ternary operator."
   ]
  },
  {
   "cell_type": "code",
   "execution_count": 5,
   "metadata": {},
   "outputs": [
    {
     "name": "stdout",
     "output_type": "stream",
     "text": [
      "Enter the number: 5\n",
      "Enter the number: 6\n"
     ]
    },
    {
     "name": "stdout",
     "output_type": "stream",
     "text": [
      "6 is largest number\n"
     ]
    }
   ],
   "source": [
    "a = int(input(\"Enter the number A:\"))\n",
    "b = int(input(\"Enter the number B:\"))\n",
    "\n",
    "largest = a if a>b else b\n",
    "print(largest, \"is largest number\")\n",
    "\n",
    "c = int(input(\"Enter the number C:\"))\n",
    "d = int(input(\"Enter the number D:\"))\n",
    "\n",
    "if(a>b):\n",
    "    print(\"A is the largest number\")\n",
    "else:\n",
    "    print(\"B is the largest number\")"
   ]
  },
  {
   "cell_type": "markdown",
   "metadata": {},
   "source": [
    "### 04) WAP to find out largest number from given three numbers."
   ]
  },
  {
   "cell_type": "code",
   "execution_count": 21,
   "metadata": {},
   "outputs": [
    {
     "name": "stdout",
     "output_type": "stream",
     "text": [
      "Enter the number A: 2\n",
      "Enter the number B: 3\n",
      "Enter the number C: 1\n"
     ]
    },
    {
     "name": "stdout",
     "output_type": "stream",
     "text": [
      "3 is a largest number\n"
     ]
    }
   ],
   "source": [
    "a = int(input(\"Enter the number A:\"))\n",
    "b = int(input(\"Enter the number B:\"))\n",
    "c = int(input(\"Enter the number C:\"))\n",
    "\n",
    "largest=a if (a>b and a>c) else (b if b>c else c)\n",
    "print(largest, \"is a largest number\")"
   ]
  },
  {
   "cell_type": "markdown",
   "metadata": {},
   "source": [
    "### 05) WAP to check whether the given year is leap year or not.\n",
    "[If a year can be divisible by 4 but not divisible by 100 then it is leap year but if it is divisible by 400 then it is leap year]"
   ]
  },
  {
   "cell_type": "code",
   "execution_count": null,
   "metadata": {},
   "outputs": [],
   "source": [
    "year = int(input(\"Enter the Year:\"))\n",
    "\n",
    "if(year%4==0 and year%100!=0):\n",
    "    print(\"Leap year\")\n",
    "else: \n",
    "    if(year%400==0):\n",
    "        print(\"Leap year\")\n",
    "    else:\n",
    "        print(\"Not a leap year\")"
   ]
  },
  {
   "cell_type": "markdown",
   "metadata": {},
   "source": [
    "### 06) WAP in python to display the name of the day according to the number given by the user."
   ]
  },
  {
   "cell_type": "code",
   "execution_count": 27,
   "metadata": {},
   "outputs": [
    {
     "name": "stdout",
     "output_type": "stream",
     "text": [
      "Enter the number of the day 8\n"
     ]
    },
    {
     "name": "stdout",
     "output_type": "stream",
     "text": [
      "Sunday\n"
     ]
    }
   ],
   "source": [
    "n = int(input(\"Enter the number of the day\"))\n",
    "\n",
    "x=(n%7)\n",
    "\n",
    "match x:\n",
    "    case 1:\n",
    "        print(\"Sunday\")\n",
    "    case 2:\n",
    "        print(\"Monday\")\n",
    "    case 3:\n",
    "        print(\"Tuesday\")\n",
    "    case 4:\n",
    "        print(\"Wednesday\")\n",
    "    case 5:\n",
    "        print(\"Thursday\")\n",
    "    case 6:\n",
    "        print(\"Friday\")\n",
    "    case 7:\n",
    "        print(\"Saturday\")"
   ]
  },
  {
   "cell_type": "markdown",
   "metadata": {},
   "source": [
    "### 07) WAP to implement simple calculator which performs (add,sub,mul,div) of two no. based on user input."
   ]
  },
  {
   "cell_type": "code",
   "execution_count": 33,
   "metadata": {},
   "outputs": [
    {
     "name": "stdout",
     "output_type": "stream",
     "text": [
      "Enter the num1: 5\n",
      "Enter +,-,*,/ : +\n",
      "Enter thr num2: 2\n"
     ]
    },
    {
     "name": "stdout",
     "output_type": "stream",
     "text": [
      "5.0 + 2.0 = 7.0\n"
     ]
    }
   ],
   "source": [
    "a = float(input(\"Enter the num1:\"))\n",
    "p = input(\"Operation :\")\n",
    "b = float(input(\"Enter thr num2:\"))\n",
    "\n",
    "match p:\n",
    "    case '+':\n",
    "        print(a,\"+\",b,\"=\",a+b)\n",
    "    case '-':\n",
    "        print(a,\"+\",b,\"=\",a-b)\n",
    "    case '*':\n",
    "        print(a,\"+\",b,\"=\",a*b)\n",
    "    case '/':\n",
    "        print(a,\"+\",b,\"=\",a/b)"
   ]
  },
  {
   "cell_type": "markdown",
   "metadata": {},
   "source": [
    "### 08) WAP to read marks of five subjects. Calculate percentage and print class accordingly. \n",
    "Fail below 35 </br>\n",
    "Pass Class between 35 to 45 </br>\n",
    "Second Class</br>\n",
    "between 45 to 60</br>\n",
    "First Class between 60 to 70</br> \n",
    "Distinction if more than 70"
   ]
  },
  {
   "cell_type": "code",
   "execution_count": 37,
   "metadata": {},
   "outputs": [
    {
     "name": "stdout",
     "output_type": "stream",
     "text": [
      "Enter the marks out of 100 2\n",
      "Enter English marks: 2\n",
      "Enter Maths marks: 2\n",
      "Enter Physics marks: 2\n",
      "Enter Chemistry marks: 2\n",
      "Enter Computer marks: 2\n"
     ]
    },
    {
     "name": "stdout",
     "output_type": "stream",
     "text": [
      "Percentage: 2.0 %\n",
      "Fail\n"
     ]
    }
   ],
   "source": [
    "print(\"Enter the marks out of 100\")\n",
    "\n",
    "m1 = float(input(\"Enter English marks:\"))\n",
    "m2 = float(input(\"Enter Maths marks:\"))\n",
    "m3 = float(input(\"Enter Physics marks:\"))\n",
    "m4 = float(input(\"Enter Chemistry marks:\"))\n",
    "m5 = float(input(\"Enter Computer marks:\"))\n",
    "\n",
    "p=((m1+m2+m3+m4+m5)/5)\n",
    "\n",
    "print(\"Percentage:\", p, \"%\")\n",
    "\n",
    "if (p>=70):\n",
    "    print(\"Distinction Class\")\n",
    "elif(p>=60):\n",
    "    print(\"First Class\")\n",
    "elif(p>=45):\n",
    "    print(\"Second Class\")\n",
    "elif(p>=35):\n",
    "    print(\"Pass\")\n",
    "else:\n",
    "    print('Fail')"
   ]
  },
  {
   "cell_type": "markdown",
   "metadata": {},
   "source": [
    "### 09) Three sides of a triangle are entered through the keyboard, WAP to check whether the triangle is isosceles, equilateral, scalene or right-angled triangle."
   ]
  },
  {
   "cell_type": "code",
   "execution_count": 43,
   "metadata": {},
   "outputs": [
    {
     "name": "stdout",
     "output_type": "stream",
     "text": [
      "Enter 1st side: 3\n",
      "Enter 2st side: 4\n",
      "Enter 3st side: 5\n"
     ]
    },
    {
     "name": "stdout",
     "output_type": "stream",
     "text": [
      "Right-angled triangle\n"
     ]
    }
   ],
   "source": [
    "a = float(input(\"Enter 1st side:\"))\n",
    "b = float(input(\"Enter 2st side:\"))\n",
    "c = float(input(\"Enter 3st side:\"))\n",
    "\n",
    "if(a==b and a==c):\n",
    "    print(\"Equilateral\")\n",
    "elif(a==b or b==c or c==a):\n",
    "    print(\"Isosceles\")\n",
    "elif(a**2 == b**2+c**2 or b**2 == a**2+c**2 or c**2 == a**2+b**2):\n",
    "    print(\"Right-angled triangle\")\n",
    "else:\n",
    "    print(\"Scalene\")\n",
    "\n"
   ]
  },
  {
   "cell_type": "markdown",
   "metadata": {},
   "source": [
    "### 10) WAP to find the second largest number among three user input numbers."
   ]
  },
  {
   "cell_type": "code",
   "execution_count": null,
   "metadata": {},
   "outputs": [
    {
     "name": "stdout",
     "output_type": "stream",
     "text": [
      "Enter the number1:  2\n",
      "Enter the number2:  3\n",
      "Enter the number3:  1\n"
     ]
    },
    {
     "name": "stdout",
     "output_type": "stream",
     "text": [
      "2\n"
     ]
    }
   ],
   "source": [
    "a = int(input(\"Enter the number1: \"))\n",
    "b = int(input(\"Enter the number2: \"))\n",
    "c = int(input(\"Enter the number3: \"))\n",
    "\n",
    "if(a>b and a>c):\n",
    "    if(b>c):\n",
    "        print(b)\n",
    "    else:\n",
    "        print(c)\n",
    "elif(b>a and b>c):\n",
    "    if(a>c):\n",
    "        print(a)\n",
    "    else:\n",
    "        print(c)\n",
    "elif(c>a and c>b):\n",
    "    if(a>b):\n",
    "        print(a)\n",
    "    else:\n",
    "        print(b)"
   ]
  },
  {
   "cell_type": "markdown",
   "metadata": {},
   "source": [
    "### 11) WAP to calculate electricity bill based on following criteria. Which takes the unit from the user.\n",
    "a. First 1 to 50 units – Rs. 2.60/unit</br>\n",
    "b. Next 50 to 100 units – Rs. 3.25/unit</br>\n",
    "c. Next 100 to 200 units – Rs. 5.26/unit</br>\n",
    "d. above 200 units – Rs. 8.45/unit"
   ]
  },
  {
   "cell_type": "code",
   "execution_count": 5,
   "metadata": {},
   "outputs": [
    {
     "name": "stdout",
     "output_type": "stream",
     "text": [
      "Invalid input! Units cannot be negative.\n"
     ]
    }
   ],
   "source": [
    "units = float(input(\"Enter the number of units consumed: \"))\n",
    "    \n",
    "if units < 0:\n",
    "    print(\"Invalid input! Units cannot be negative.\")\n",
    "else:\n",
    "    if units <= 50:\n",
    "        bill = units * 2.60\n",
    "    elif units <= 100:\n",
    "        bill = (50 * 2.60) + ((units - 50) * 3.25)\n",
    "    elif units <= 200:\n",
    "        bill = (50 * 2.60) + (50 * 3.25) + ((units - 100) * 5.26)\n",
    "    else:\n",
    "        bill = (50 * 2.60) + (50 * 3.25) + (100 * 5.26) + ((units - 200) * 8.45)\n",
    "    \n",
    "    print(f\"The total electricity bill for {units:.2f} units is: Rs. {bill:.2f}\")"
   ]
  }
 ],
 "metadata": {
  "kernelspec": {
   "display_name": "Python 3",
   "language": "python",
   "name": "python3"
  },
  "language_info": {
   "codemirror_mode": {
    "name": "ipython",
    "version": 3
   },
   "file_extension": ".py",
   "mimetype": "text/x-python",
   "name": "python",
   "nbconvert_exporter": "python",
   "pygments_lexer": "ipython3",
   "version": "3.12.5"
  }
 },
 "nbformat": 4,
 "nbformat_minor": 4
}

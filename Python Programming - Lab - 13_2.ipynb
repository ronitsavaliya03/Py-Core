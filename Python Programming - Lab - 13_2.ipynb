{
 "cells": [
  {
   "cell_type": "markdown",
   "metadata": {},
   "source": [
    "<a href='https://www.darshan.ac.in/'> <img src='https://www.darshan.ac.in/Content/media/DU_Logo.svg' width=\"250\" height=\"300\"/></a>\n",
    "<pre>\n",
    "<center><b><h1>Python Programming - 2301CS404</b></center>\n",
    "<center><b><h1>Lab - 13</b></center>    \n",
    "<center><b><h1>Ronit Savaliya | 23010101247 | 11/03/2024</b></center>    \n",
    "<pre>"
   ]
  },
  {
   "cell_type": "markdown",
   "metadata": {},
   "source": [
    "## Continued.."
   ]
  },
  {
   "cell_type": "markdown",
   "metadata": {},
   "source": [
    "### 10) Calculate area of a ractangle using object as an argument to a method."
   ]
  },
  {
   "cell_type": "code",
   "execution_count": 9,
   "metadata": {},
   "outputs": [
    {
     "name": "stdout",
     "output_type": "stream",
     "text": [
      "Area calculated using object is: 50\n"
     ]
    }
   ],
   "source": [
    "class Rectangle:\n",
    "    def __init__(self, length, breadth):\n",
    "        self.length=length\n",
    "        self.breadth=breadth\n",
    "\n",
    "\n",
    "def calc_area(obj):\n",
    "    area=obj.length*obj.breadth\n",
    "    print(\"Area calculated using object is:\", area)\n",
    "\n",
    "r1= Rectangle(5, 10)\n",
    "\n",
    "calc_area(r1)"
   ]
  },
  {
   "cell_type": "markdown",
   "metadata": {},
   "source": [
    "### 11) Calculate the area of a square. \n",
    "### Include a Constructor, a method to calculate area named area() and a method named output() that prints the output and is invoked by area()."
   ]
  },
  {
   "cell_type": "code",
   "execution_count": 13,
   "metadata": {},
   "outputs": [
    {
     "name": "stdout",
     "output_type": "stream",
     "text": [
      "Area of square with side 4 is: 16\n"
     ]
    }
   ],
   "source": [
    "class Square:\n",
    "    def __init__(self, side):\n",
    "        self.side = side\n",
    "    \n",
    "    def area(self):\n",
    "        area_value = self.side ** 2\n",
    "        self.output(area_value)\n",
    "        # return area_value\n",
    "    \n",
    "    def output(self, area_value):\n",
    "        print(f\"Area of square with side {self.side} is: {area_value}\")\n",
    "\n",
    "      \n",
    "square = Square(4)\n",
    "square.area()"
   ]
  },
  {
   "cell_type": "markdown",
   "metadata": {},
   "source": [
    "### 12) Calculate the area of a rectangle. \n",
    "### Include a Constructor, a method to calculate area named area() and a method named output() that prints the output and is invoked by area().\n",
    "### Also define a class method that compares the two sides of reactangle. An object is instantiated only if the two sides are different; otherwise a message should be displayed : THIS IS SQUARE."
   ]
  },
  {
   "cell_type": "code",
   "execution_count": 15,
   "metadata": {},
   "outputs": [
    {
     "name": "stdout",
     "output_type": "stream",
     "text": [
      "Area of rectangle with length 5 and width 3 is: 15\n",
      "THIS IS SQUARE.\n"
     ]
    }
   ],
   "source": [
    "class Rectangle:\n",
    "    def __init__(self, length, width):\n",
    "        self.length = length\n",
    "        self.width = width\n",
    "    \n",
    "    def area(self):\n",
    "        area_value = self.length * self.width\n",
    "        self.output(area_value)\n",
    "        return area_value\n",
    "    \n",
    "    def output(self, area_value):\n",
    "        print(f\"Area of rectangle with length {self.length} and width {self.width} is: {area_value}\")\n",
    "    \n",
    "    @classmethod\n",
    "    def create_rectangle(cls, length, width):\n",
    "        if length == width:\n",
    "            print(\"THIS IS SQUARE.\")\n",
    "            return None\n",
    "        else:\n",
    "            return cls(length, width)\n",
    "\n",
    "\n",
    "rect1 = Rectangle.create_rectangle(5, 3)\n",
    "if rect1:\n",
    "    rect1.area()\n",
    "\n",
    "rect2 = Rectangle.create_rectangle(4, 4)  "
   ]
  },
  {
   "cell_type": "markdown",
   "metadata": {},
   "source": [
    "### 13) Define a class Square having a private attribute \"side\". \n",
    "### Implement get_side and set_side methods to accees the private attribute from outside of the class."
   ]
  },
  {
   "cell_type": "code",
   "execution_count": null,
   "metadata": {},
   "outputs": [],
   "source": [
    "class Square:\n",
    "    def __init__(self, side):\n",
    "        self.__side = side  \n",
    "    \n",
    "    def get_side(self):\n",
    "        return self.__side\n",
    "    \n",
    "    def set_side(self, side):\n",
    "        self.__side = side\n",
    "    \n",
    "    def calculate_area(self):\n",
    "        return self.__side ** 2\n",
    "\n",
    "\n",
    "sq = Square(5)\n",
    "print(f\"Side of square: {sq.get_side()}\")\n",
    "print(f\"Area of square: {sq.calculate_area()}\")\n",
    "\n",
    "sq.set_side(7)\n",
    "print(f\"New side of square: {sq.get_side()}\")\n",
    "print(f\"New area of square: {sq.calculate_area()}\")"
   ]
  },
  {
   "cell_type": "markdown",
   "metadata": {},
   "source": [
    "### 14) Create a class Profit that has a method named getProfit that accepts profit from the user.\n",
    "### Create a class Loss that has a method named getLoss that accepts loss from the user.\n",
    "### Create a class BalanceSheet that inherits from both classes Profit and Loss and calculates the balanace. It has two methods getBalance() and printBalance()."
   ]
  },
  {
   "cell_type": "code",
   "execution_count": 32,
   "metadata": {},
   "outputs": [
    {
     "name": "stdin",
     "output_type": "stream",
     "text": [
      "Enter loss amount:  11\n",
      "Enter profit amount:  10\n"
     ]
    },
    {
     "name": "stdout",
     "output_type": "stream",
     "text": [
      "Profit: $10.0\n",
      "Loss: $11.0\n",
      "Balance: $-1.0\n"
     ]
    }
   ],
   "source": [
    "class Profit:\n",
    "    def __init__(self):\n",
    "        self.profit = 0\n",
    "    \n",
    "    def getProfit(self):\n",
    "        self.profit = float(input(\"Enter profit amount: \"))\n",
    "        return self.profit\n",
    "\n",
    "class Loss:\n",
    "    def __init__(self):\n",
    "        self.loss = 0\n",
    "    \n",
    "    def getLoss(self):\n",
    "        self.loss = float(input(\"Enter loss amount: \"))\n",
    "        return self.loss\n",
    "\n",
    "class BalanceSheet(Profit, Loss):\n",
    "    def __init__(self):\n",
    "        Profit.__init__(self)\n",
    "        Loss.__init__(self)\n",
    "        self.balance = 0\n",
    "    \n",
    "    def getBalance(self):\n",
    "        self.balance = self.profit - self.loss\n",
    "        return self.balance\n",
    "    \n",
    "    def printBalance(self):\n",
    "        print(f\"Profit: ${self.profit}\")\n",
    "        print(f\"Loss: ${self.loss}\")\n",
    "        print(f\"Balance: ${self.balance}\")\n",
    "\n",
    "bal_sheet=BalanceSheet()\n",
    "bal_sheet.getLoss()\n",
    "bal_sheet.getProfit()\n",
    "bal_sheet.getBalance()\n",
    "bal_sheet.printBalance()"
   ]
  },
  {
   "attachments": {},
   "cell_type": "markdown",
   "metadata": {},
   "source": [
    "### 15) WAP to demonstrate all types of inheritance."
   ]
  },
  {
   "cell_type": "code",
   "execution_count": 34,
   "metadata": {},
   "outputs": [
    {
     "name": "stdout",
     "output_type": "stream",
     "text": [
      "\n",
      "Single Inheritance:\n",
      "This is parent method\n",
      "This is child method\n",
      "\n",
      "Multiple Inheritance:\n",
      "This is father method\n",
      "This is mother method\n",
      "This is child2 method\n",
      "\n",
      "Multilevel Inheritance:\n",
      "This is grandparent method\n",
      "This is parent2 method\n",
      "This is child3 method\n",
      "\n",
      "Hierarchical Inheritance:\n",
      "This is parent3 method\n",
      "This is childA method\n",
      "This is parent3 method\n",
      "This is childB method\n",
      "\n",
      "Hybrid Inheritance:\n",
      "This is base method\n",
      "This is derived1 method\n",
      "This is derived2 method\n",
      "This is derived of derived method\n"
     ]
    }
   ],
   "source": [
    "class Parent:\n",
    "    def __init__(self):\n",
    "        self.parent_attribute = \"This is from parent\"\n",
    "    \n",
    "    def parent_method(self):\n",
    "        print(\"This is parent method\")\n",
    "\n",
    "class Child(Parent):\n",
    "    def __init__(self):\n",
    "        super().__init__()\n",
    "        self.child_attribute = \"This is from child\"\n",
    "    \n",
    "    def child_method(self):\n",
    "        print(\"This is child method\")\n",
    "\n",
    "class Father:\n",
    "    def father_method(self):\n",
    "        print(\"This is father method\")\n",
    "\n",
    "class Mother:\n",
    "    def mother_method(self):\n",
    "        print(\"This is mother method\")\n",
    "\n",
    "class Child2(Father, Mother):\n",
    "    def child_method(self):\n",
    "        print(\"This is child2 method\")\n",
    "\n",
    "class Grandparent:\n",
    "    def grandparent_method(self):\n",
    "        print(\"This is grandparent method\")\n",
    "\n",
    "class Parent2(Grandparent):\n",
    "    def parent_method(self):\n",
    "        print(\"This is parent2 method\")\n",
    "\n",
    "class Child3(Parent2):\n",
    "    def child_method(self):\n",
    "        print(\"This is child3 method\")\n",
    "\n",
    "class Parent3:\n",
    "    def parent_method(self):\n",
    "        print(\"This is parent3 method\")\n",
    "\n",
    "class ChildA(Parent3):\n",
    "    def child_a_method(self):\n",
    "        print(\"This is childA method\")\n",
    "\n",
    "class ChildB(Parent3):\n",
    "    def child_b_method(self):\n",
    "        print(\"This is childB method\")\n",
    "\n",
    "\n",
    "class Base:\n",
    "    def base_method(self):\n",
    "        print(\"This is base method\")\n",
    "\n",
    "class Derived1(Base):\n",
    "    def derived1_method(self):\n",
    "        print(\"This is derived1 method\")\n",
    "\n",
    "class Derived2(Base):\n",
    "    def derived2_method(self):\n",
    "        print(\"This is derived2 method\")\n",
    "\n",
    "class DerivedOfDerived(Derived1, Derived2):\n",
    "    def derived_of_derived_method(self):\n",
    "        print(\"This is derived of derived method\")\n",
    "\n",
    "\n",
    "print(\"\\nSingle Inheritance:\")\n",
    "child = Child()\n",
    "child.parent_method()\n",
    "child.child_method()\n",
    "\n",
    "print(\"\\nMultiple Inheritance:\")\n",
    "child2 = Child2()\n",
    "child2.father_method()\n",
    "child2.mother_method()\n",
    "child2.child_method()\n",
    "\n",
    "print(\"\\nMultilevel Inheritance:\")\n",
    "child3 = Child3()\n",
    "child3.grandparent_method()\n",
    "child3.parent_method()\n",
    "child3.child_method()\n",
    "\n",
    "print(\"\\nHierarchical Inheritance:\")\n",
    "childA = ChildA()\n",
    "childB = ChildB()\n",
    "childA.parent_method()\n",
    "childA.child_a_method()\n",
    "childB.parent_method()\n",
    "childB.child_b_method()\n",
    "\n",
    "print(\"\\nHybrid Inheritance:\")\n",
    "derived_of_derived = DerivedOfDerived()\n",
    "derived_of_derived.base_method()\n",
    "derived_of_derived.derived1_method()\n",
    "derived_of_derived.derived2_method()\n",
    "derived_of_derived.derived_of_derived_method()\n"
   ]
  },
  {
   "cell_type": "markdown",
   "metadata": {},
   "source": [
    "### 16) Create a Person class with a constructor that takes two arguments name and age. \n",
    "### Create a child class Employee that inherits from Person and adds a new attribute salary. \n",
    "### Override the __init__ method in Employee to call the parent class's __init__ method using the super() and then initialize the salary attribute."
   ]
  },
  {
   "cell_type": "code",
   "execution_count": 36,
   "metadata": {},
   "outputs": [
    {
     "name": "stdout",
     "output_type": "stream",
     "text": [
      "Name: John Doe, Age: 30\n",
      "Salary: $50000\n"
     ]
    }
   ],
   "source": [
    "class Person:\n",
    "    def __init__(self, name, age):\n",
    "        self.name = name\n",
    "        self.age = age\n",
    "    \n",
    "    def display_info(self):\n",
    "        print(f\"Name: {self.name}, Age: {self.age}\")\n",
    "\n",
    "class Employee(Person):\n",
    "    def __init__(self, name, age, salary):\n",
    "        super().__init__(name, age)  \n",
    "        self.salary = salary\n",
    "    \n",
    "    def display_info(self):\n",
    "        super().display_info()\n",
    "        print(f\"Salary: ${self.salary}\")\n",
    "\n",
    "employee = Employee(\"John Doe\", 22, 25000)\n",
    "employee.display_info()"
   ]
  },
  {
   "cell_type": "markdown",
   "metadata": {},
   "source": [
    "### 17) Create a Shape class with a draw method that is not implemented. \n",
    "### Create three child classes Rectangle, Circle, and Triangle that implement the draw method with their respective drawing behaviors. \n",
    "### Create a list of Shape objects that includes one instance of each child class, and then iterate through the list and call the draw method on each object."
   ]
  },
  {
   "cell_type": "code",
   "execution_count": 41,
   "metadata": {},
   "outputs": [
    {
     "name": "stdout",
     "output_type": "stream",
     "text": [
      "Drawing a rectangle\n",
      "Drawing a circle\n",
      "Drawing a triangle\n"
     ]
    },
    {
     "ename": "NotImplementedError",
     "evalue": "Subclass must implement abstract method",
     "output_type": "error",
     "traceback": [
      "\u001b[1;31m---------------------------------------------------------------------------\u001b[0m",
      "\u001b[1;31mNotImplementedError\u001b[0m                       Traceback (most recent call last)",
      "Cell \u001b[1;32mIn[41], line 24\u001b[0m\n\u001b[0;32m     21\u001b[0m     shape\u001b[38;5;241m.\u001b[39mdraw()\n\u001b[0;32m     23\u001b[0m s \u001b[38;5;241m=\u001b[39m Shape()\n\u001b[1;32m---> 24\u001b[0m \u001b[43ms\u001b[49m\u001b[38;5;241;43m.\u001b[39;49m\u001b[43mdraw\u001b[49m\u001b[43m(\u001b[49m\u001b[43m)\u001b[49m\n",
      "Cell \u001b[1;32mIn[41], line 3\u001b[0m, in \u001b[0;36mShape.draw\u001b[1;34m(self)\u001b[0m\n\u001b[0;32m      2\u001b[0m \u001b[38;5;28;01mdef\u001b[39;00m \u001b[38;5;21mdraw\u001b[39m(\u001b[38;5;28mself\u001b[39m):\n\u001b[1;32m----> 3\u001b[0m     \u001b[38;5;28;01mraise\u001b[39;00m \u001b[38;5;167;01mNotImplementedError\u001b[39;00m(\u001b[38;5;124m\"\u001b[39m\u001b[38;5;124mSubclass must implement abstract method\u001b[39m\u001b[38;5;124m\"\u001b[39m)\n",
      "\u001b[1;31mNotImplementedError\u001b[0m: Subclass must implement abstract method"
     ]
    }
   ],
   "source": [
    "class Shape:\n",
    "    def draw(self):\n",
    "        raise NotImplementedError(\"Subclass must implement abstract method\")\n",
    "\n",
    "class Rectangle(Shape):\n",
    "    def draw(self):\n",
    "        print(\"Drawing a rectangle\")\n",
    "\n",
    "class Circle(Shape):\n",
    "    def draw(self):\n",
    "        print(\"Drawing a circle\")\n",
    "\n",
    "class Triangle(Shape):\n",
    "    def draw(self):\n",
    "        print(\"Drawing a triangle\")\n",
    "\n",
    "\n",
    "shapes = [Rectangle(), Circle(), Triangle()]\n",
    "\n",
    "for shape in shapes:\n",
    "    shape.draw()\n",
    "\n",
    "s = Shape()\n",
    "s.draw()"
   ]
  },
  {
   "cell_type": "code",
   "execution_count": null,
   "metadata": {},
   "outputs": [],
   "source": []
  }
 ],
 "metadata": {
  "kernelspec": {
   "display_name": "Python 3 (ipykernel)",
   "language": "python",
   "name": "python3"
  },
  "language_info": {
   "codemirror_mode": {
    "name": "ipython",
    "version": 3
   },
   "file_extension": ".py",
   "mimetype": "text/x-python",
   "name": "python",
   "nbconvert_exporter": "python",
   "pygments_lexer": "ipython3",
   "version": "3.12.7"
  }
 },
 "nbformat": 4,
 "nbformat_minor": 4
}

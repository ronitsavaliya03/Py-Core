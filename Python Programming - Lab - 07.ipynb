{
 "cells": [
  {
   "cell_type": "markdown",
   "metadata": {},
   "source": [
    "<a href='https://www.darshan.ac.in/'> <img src='https://www.darshan.ac.in/Content/media/DU_Logo.svg' width=\"250\" height=\"300\"/></a>\n",
    "<pre>\n",
    "<center><b><h1>Python Programming - 2301CS404</b></center>\n",
    "<center><b><h1>Lab - 7</b></center>    \n",
    "<center><b><h1>Ronit Savaliya | 23010101247 | 21/1/2025</b></center>    \n",
    "<pre>"
   ]
  },
  {
   "cell_type": "markdown",
   "metadata": {},
   "source": [
    "# Set & Dictionary"
   ]
  },
  {
   "cell_type": "code",
   "execution_count": 3,
   "metadata": {},
   "outputs": [],
   "source": [
    "def createSet():\n",
    "    n=int(input(\"Enter the Size of Set:\"))\n",
    "    s=set()\n",
    "\n",
    "    for i in range(0,n):\n",
    "        element=int(input(\"Enter the element:\"))\n",
    "        s.add(element)\n",
    "        \n",
    "    return s\n",
    "\n",
    "set1={1,6,9,6,35,7,8,56,8}\n",
    "set2={5,9,3,2,65,45,56,8,6}"
   ]
  },
  {
   "cell_type": "markdown",
   "metadata": {},
   "source": [
    "### 01) WAP to iterate over a set."
   ]
  },
  {
   "cell_type": "code",
   "execution_count": 5,
   "metadata": {},
   "outputs": [
    {
     "name": "stdout",
     "output_type": "stream",
     "text": [
      "Enter the Size of Set: 5\n",
      "Enter the element: 1\n",
      "Enter the element: 2\n",
      "Enter the element: 3\n",
      "Enter the element: 5\n",
      "Enter the element: 2\n"
     ]
    },
    {
     "name": "stdout",
     "output_type": "stream",
     "text": [
      "1\n",
      "2\n",
      "3\n",
      "5\n"
     ]
    }
   ],
   "source": [
    "set=createSet()\n",
    "\n",
    "for i in set:\n",
    "    print(i)"
   ]
  },
  {
   "cell_type": "markdown",
   "metadata": {},
   "source": [
    "### 02) WAP to convert set into list, string and tuple."
   ]
  },
  {
   "cell_type": "code",
   "execution_count": 3,
   "metadata": {},
   "outputs": [
    {
     "name": "stdout",
     "output_type": "stream",
     "text": [
      "Enter the Size of Set: 5\n",
      "Enter the element: 1\n",
      "Enter the element: 2\n",
      "Enter the element: 3\n",
      "Enter the element: 2\n",
      "Enter the element: 6\n"
     ]
    },
    {
     "name": "stdout",
     "output_type": "stream",
     "text": [
      "[1, 2, 3, 6]\n",
      "(1, 2, 3, 6)\n",
      "<class 'str'>\n"
     ]
    }
   ],
   "source": [
    "set=createSet()\n",
    "\n",
    "list=list(set)\n",
    "tuple=tuple(set)\n",
    "str=str(set)\n",
    "\n",
    "print(list)\n",
    "print(tuple)\n",
    "print(type(str))"
   ]
  },
  {
   "cell_type": "markdown",
   "metadata": {},
   "source": [
    "### 03) WAP to find Maximum and Minimum from a set."
   ]
  },
  {
   "cell_type": "code",
   "execution_count": 2,
   "metadata": {},
   "outputs": [
    {
     "name": "stdout",
     "output_type": "stream",
     "text": [
      "1\n",
      "3\n"
     ]
    }
   ],
   "source": [
    "set=createSet()\n",
    "k=int(input(\"Enter the k: \"))\n",
    "\n",
    "list=sorted(set)\n",
    "\n",
    "min=list[0]\n",
    "max=list[-1]\n",
    "print(min)\n",
    "print(max)"
   ]
  },
  {
   "cell_type": "markdown",
   "metadata": {},
   "source": [
    "### 04) WAP to perform union of two sets."
   ]
  },
  {
   "cell_type": "code",
   "execution_count": 3,
   "metadata": {},
   "outputs": [
    {
     "name": "stdout",
     "output_type": "stream",
     "text": [
      "Enter the Size of Set: 5\n",
      "Enter the element: 1\n",
      "Enter the element: 2\n",
      "Enter the element: 3\n",
      "Enter the element: 4\n",
      "Enter the element: 5\n",
      "Enter the Size of Set: 5\n",
      "Enter the element: 3\n",
      "Enter the element: 4\n",
      "Enter the element: 5\n",
      "Enter the element: 6\n",
      "Enter the element: 7\n"
     ]
    },
    {
     "name": "stdout",
     "output_type": "stream",
     "text": [
      "{1, 2, 3, 4, 5, 6, 7}\n"
     ]
    }
   ],
   "source": [
    "set1=createSet()\n",
    "set2=createSet()\n",
    "\n",
    "# union=set1 | set2\n",
    "union=set1.union(set2)\n",
    "\n",
    "print(union)"
   ]
  },
  {
   "cell_type": "markdown",
   "metadata": {},
   "source": [
    "### 05) WAP to check if two lists have at-least one element common."
   ]
  },
  {
   "cell_type": "code",
   "execution_count": 9,
   "metadata": {},
   "outputs": [
    {
     "name": "stdout",
     "output_type": "stream",
     "text": [
      "Common elements:  {7}\n"
     ]
    }
   ],
   "source": [
    "li1 = [1, 2, 3, 4, 5, 6, 7]\n",
    "li2 = [7, 8, 9, 0, -1, -2, -3]\n",
    "\n",
    "s1 = set(li1)\n",
    "s2 = set(li2)\n",
    "\n",
    "if not (s1 & s2):\n",
    "    print(\"No element common\")\n",
    "else:\n",
    "    print(\"Common elements: \", s1 & s2)"
   ]
  },
  {
   "cell_type": "markdown",
   "metadata": {},
   "source": [
    "### 06) WAP to remove duplicates from list."
   ]
  },
  {
   "cell_type": "code",
   "execution_count": null,
   "metadata": {},
   "outputs": [],
   "source": [
    "li = [1, 2, 3, 4, 5, 6, 7, 3, 2, 3, 1]\n",
    "# s=set(li1)\n",
    "# li=list(s)\n",
    "\n",
    "li = list(set(li))\n",
    "\n",
    "print(li)"
   ]
  },
  {
   "cell_type": "markdown",
   "metadata": {},
   "source": [
    "### 07) WAP to find unique words in the given string."
   ]
  },
  {
   "cell_type": "code",
   "execution_count": 1,
   "metadata": {},
   "outputs": [
    {
     "name": "stdout",
     "output_type": "stream",
     "text": [
      "Unique words: \n",
      "hello\n",
      "and\n",
      "friend's\n",
      "{'is', 'hello', 'and', \"friend's\", 'name', 'asdf', 'my'}\n"
     ]
    }
   ],
   "source": [
    "str1=\"hello my name is asdf and my friend's name is asdf\"\n",
    "words=str1.lower().split()\n",
    "di={}\n",
    "\n",
    "# unique words which occure only one time in string\n",
    "for i in words:\n",
    "    if di.get(i)==None:\n",
    "        di[i]=1\n",
    "    else:\n",
    "        di[i]+=1\n",
    "\n",
    "print(\"Unique words: \")\n",
    "for i in di:\n",
    "    if di[i]==1:\n",
    "        print(i)\n",
    "\n",
    "# unique words(if any occure two time than consider only once)\n",
    "str1=str(set(words))\n",
    "print(str1)"
   ]
  },
  {
   "cell_type": "markdown",
   "metadata": {},
   "source": [
    "### 08) WAP to remove common elements of set A & B from set A."
   ]
  },
  {
   "cell_type": "code",
   "execution_count": 25,
   "metadata": {},
   "outputs": [
    {
     "name": "stdout",
     "output_type": "stream",
     "text": [
      "{1, 35, 7}\n"
     ]
    }
   ],
   "source": [
    "set1=set1-set2\n",
    "print(set1)"
   ]
  },
  {
   "cell_type": "markdown",
   "metadata": {},
   "source": [
    "### 09) WAP to check whether two given strings are anagram or not using set."
   ]
  },
  {
   "cell_type": "code",
   "execution_count": 4,
   "metadata": {},
   "outputs": [
    {
     "name": "stdout",
     "output_type": "stream",
     "text": [
      "Counter({'l': 2, 'f': 1, 'u': 1})\n",
      "\"full\" and \"fuul\" are not anagrams.\n"
     ]
    }
   ],
   "source": [
    "from collections import Counter\n",
    "\n",
    "def are_anagrams(str1, str2):\n",
    "    str1 = str1.replace(\" \", \"\").lower()\n",
    "    str2 = str2.replace(\" \", \"\").lower()\n",
    "    \n",
    "    # print(Counter(str1))\n",
    "    return Counter(str1) == Counter(str2)\n",
    "\n",
    "string1 = input(\"Enter the first string: \")\n",
    "string2 = input(\"Enter the second string: \")\n",
    "\n",
    "if are_anagrams(string1, string2):\n",
    "    print(f'\"{string1}\" and \"{string2}\" are anagrams.')\n",
    "else:\n",
    "    print(f'\"{string1}\" and \"{string2}\" are not anagrams.')\n"
   ]
  },
  {
   "cell_type": "markdown",
   "metadata": {},
   "source": [
    "### 10) WAP to find common elements in three lists using set."
   ]
  },
  {
   "cell_type": "code",
   "execution_count": 29,
   "metadata": {},
   "outputs": [
    {
     "name": "stdout",
     "output_type": "stream",
     "text": [
      "{5, 6}\n"
     ]
    }
   ],
   "source": [
    "li1=[1,6,5,9,3,5,6,23,5,43,6]\n",
    "li2=[5,6,1,8,4,3,26,5,6]\n",
    "li3=[11,99,6,33,4,5,7]\n",
    "\n",
    "print(set(li1)&set(li2)&set(li3))"
   ]
  },
  {
   "cell_type": "markdown",
   "metadata": {},
   "source": [
    "### 11) WAP to count number of vowels in given string using set."
   ]
  },
  {
   "cell_type": "code",
   "execution_count": 10,
   "metadata": {},
   "outputs": [
    {
     "name": "stdout",
     "output_type": "stream",
     "text": [
      "5\n"
     ]
    }
   ],
   "source": [
    "str=\"qwertyyasdfghzxcvbuiop\"\n",
    "vowel=set(\"aeiou\")\n",
    "count=0\n",
    "\n",
    "for i in str.lower():\n",
    "    if(i in vowel):\n",
    "        count+=1\n",
    "\n",
    "print(count)"
   ]
  },
  {
   "cell_type": "markdown",
   "metadata": {},
   "source": [
    "### 12) WAP to check if a given string is binary string or not."
   ]
  },
  {
   "cell_type": "code",
   "execution_count": 14,
   "metadata": {},
   "outputs": [
    {
     "name": "stdout",
     "output_type": "stream",
     "text": [
      "String is not binary.\n"
     ]
    }
   ],
   "source": [
    "str = \"0101201\"\n",
    "\n",
    "if set(str) <= set(\"01\"):\n",
    "    print(\"String is binary.\")\n",
    "else:\n",
    "    print(\"String is not binary.\")"
   ]
  },
  {
   "cell_type": "markdown",
   "metadata": {},
   "source": [
    "### 13) WAP to sort dictionary by key or value."
   ]
  },
  {
   "cell_type": "code",
   "execution_count": 34,
   "metadata": {},
   "outputs": [
    {
     "name": "stdout",
     "output_type": "stream",
     "text": [
      "{'yash': 30, 'mihir': 29, 'ronit': 11, 'tirth': 27, 'vatsal': 28}\n"
     ]
    }
   ],
   "source": [
    "d={}\n",
    "d['yash']=30\n",
    "d['mihir']=29\n",
    "d['ronit']=11\n",
    "d['tirth']=27\n",
    "d['vatsal']=28\n",
    "\n",
    "# d=sorted(d.items())\n",
    "print(dict(d))"
   ]
  },
  {
   "cell_type": "markdown",
   "metadata": {},
   "source": [
    "### 14) WAP to find the sum of all items (values) in a dictionary given by user. (Assume: values are numeric)"
   ]
  },
  {
   "cell_type": "code",
   "execution_count": 36,
   "metadata": {},
   "outputs": [
    {
     "name": "stdout",
     "output_type": "stream",
     "text": [
      "125\n"
     ]
    }
   ],
   "source": [
    "sum=sum(d.values())\n",
    "print(sum)"
   ]
  },
  {
   "cell_type": "markdown",
   "metadata": {},
   "source": [
    "### 15) WAP to handle missing keys in dictionaries.\n",
    "#### Example : Given, dict1 = {'a': 5, 'c': 8, 'e': 2} \n",
    "#### if you look for key = 'd', the message given should be 'Key Not Found', otherwise print the value of 'd' in dict1."
   ]
  },
  {
   "cell_type": "code",
   "execution_count": 46,
   "metadata": {},
   "outputs": [
    {
     "name": "stdout",
     "output_type": "stream",
     "text": [
      "Key Not Found\n"
     ]
    }
   ],
   "source": [
    "di={}\n",
    "di['a']=5\n",
    "di['c']=8\n",
    "di['e']=2\n",
    "\n",
    "key = \"d\"\n",
    "\n",
    "if key in di:\n",
    "    print(di[key])\n",
    "else:\n",
    "    print(\"Key Not Found\")\n",
    "\n"
   ]
  }
 ],
 "metadata": {
  "kernelspec": {
   "display_name": "Python 3",
   "language": "python",
   "name": "python3"
  },
  "language_info": {
   "codemirror_mode": {
    "name": "ipython",
    "version": 3
   },
   "file_extension": ".py",
   "mimetype": "text/x-python",
   "name": "python",
   "nbconvert_exporter": "python",
   "pygments_lexer": "ipython3",
   "version": "3.12.5"
  }
 },
 "nbformat": 4,
 "nbformat_minor": 4
}

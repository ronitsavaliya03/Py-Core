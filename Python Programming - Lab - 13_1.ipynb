{
 "cells": [
  {
   "cell_type": "markdown",
   "metadata": {},
   "source": [
    "<a href='https://www.darshan.ac.in/'> <img src='https://www.darshan.ac.in/Content/media/DU_Logo.svg' width=\"250\" height=\"300\"/></a>\n",
    "<pre>\n",
    "<center><b><h1>Python Programming - 2301CS404</b></center>\n",
    "<center><b><h1>Lab - 13</b></center>    \n",
    "<center><b><h1>Ronit Savaliya | 23010101247 | 04/03/2025</b></center>    \n",
    "<pre>"
   ]
  },
  {
   "cell_type": "markdown",
   "metadata": {},
   "source": [
    "# OOP"
   ]
  },
  {
   "cell_type": "markdown",
   "metadata": {},
   "source": [
    "### 01) Write a Program to create a class by name Students, and initialize attributes like name, age, and grade while creating an object."
   ]
  },
  {
   "cell_type": "code",
   "execution_count": 5,
   "metadata": {},
   "outputs": [
    {
     "name": "stdout",
     "output_type": "stream",
     "text": [
      "Name: Yash\n",
      "Age: 20\n",
      "Grade: A++\n"
     ]
    }
   ],
   "source": [
    "class Student:\n",
    "    def __init__(self, name, age, grade):\n",
    "        self.Name=name\n",
    "        self.Age=age\n",
    "        self.Grade=grade\n",
    "\n",
    "    def display_info(self):\n",
    "        print(\"Name:\", self.Name)\n",
    "        print(\"Age:\", self.Age)\n",
    "        print(\"Grade:\", self.Grade)\n",
    "\n",
    "student1= Student(\"Yash\", 20, \"A++\")\n",
    "student1.display_info()\n",
    "        "
   ]
  },
  {
   "cell_type": "markdown",
   "metadata": {},
   "source": [
    "### 02) Create a class named Bank_Account with Account_No, User_Name, Email,Account_Type and Account_Balance data members. Also create a method GetAccountDetails() and DisplayAccountDetails(). Create main method to demonstrate the Bank_Account class."
   ]
  },
  {
   "cell_type": "code",
   "execution_count": 14,
   "metadata": {},
   "outputs": [
    {
     "name": "stdout",
     "output_type": "stream",
     "text": [
      "Account Number: 564585366\n",
      "User Name: Dhyey Mahajan\n",
      "Email: dhyey.mahajan@gmail.com\n",
      "Account Type: Savings\n",
      "Account Balance: 850000000\n"
     ]
    }
   ],
   "source": [
    "class BankAccount:\n",
    "    def __init__(self, Account_No, User_Name, Email, Account_Type, Account_Balance):\n",
    "        self.Account_No=Account_No\n",
    "        self.User_Name=User_Name\n",
    "        self.Email=Email\n",
    "        self.Account_Type=Account_Type\n",
    "        self.Account_Balance=Account_Balance\n",
    "\n",
    "    def DisplayAccountDetails(self):\n",
    "        print(\"Account Number:\", self.Account_No)\n",
    "        print(\"User Name:\", self.User_Name)\n",
    "        print(\"Email:\", self.Email)\n",
    "        print(\"Account Type:\", self.Account_Type)\n",
    "        print(\"Account Balance:\", self.Account_Balance)\n",
    "\n",
    "    # def GetAccountDetails():\n",
    "\n",
    "\n",
    "customer1=BankAccount(564585366, \"Dhyey Mahajan\", \"dhyey.mahajan@gmail.com\", \"Savings\", 850000000)\n",
    "customer1.DisplayAccountDetails()"
   ]
  },
  {
   "cell_type": "markdown",
   "metadata": {},
   "source": [
    "### 03) WAP to create Circle class with area and perimeter function to find area and perimeter of circle."
   ]
  },
  {
   "cell_type": "code",
   "execution_count": 20,
   "metadata": {},
   "outputs": [
    {
     "name": "stdout",
     "output_type": "stream",
     "text": [
      "314.1592653589793\n",
      "62.83185307179586\n"
     ]
    }
   ],
   "source": [
    "import math\n",
    "class Circle:\n",
    "    def __init__(self, radius):\n",
    "        self.radius=radius\n",
    "\n",
    "    def area(self):\n",
    "        return math.pi * (self.radius**2)\n",
    "\n",
    "    def perimeter(self):\n",
    "        return 2 * math.pi *self.radius\n",
    "\n",
    "c1=Circle(10)\n",
    "print(c1.area())\n",
    "print(c1.perimeter())"
   ]
  },
  {
   "cell_type": "markdown",
   "metadata": {},
   "source": [
    "### 04) Create a class for employees that includes attributes such as name, age, salary, and methods to update and display employee information."
   ]
  },
  {
   "cell_type": "code",
   "execution_count": 24,
   "metadata": {},
   "outputs": [
    {
     "name": "stdout",
     "output_type": "stream",
     "text": [
      "Name: Veer Suryavanshi\n",
      "Age: 20\n",
      "Salary: 70000\n",
      "Name: Veer Suryavanshi\n",
      "Age: 20\n",
      "Salary: 100000\n",
      "Name: Veer Suryavanshi\n",
      "Age: 21\n",
      "Salary: 100000\n"
     ]
    }
   ],
   "source": [
    "class Employee:\n",
    "    def __init__(self, name, age, salary):\n",
    "        self.name = name\n",
    "        self.age = age\n",
    "        self.salary = salary\n",
    "    \n",
    "    def update_info(self, name=None, age=None, salary=None):\n",
    "        if name:\n",
    "            self.name = name\n",
    "        if age:\n",
    "            self.age = age\n",
    "        if salary:\n",
    "            self.salary = salary\n",
    "    \n",
    "    def display_info(self):\n",
    "        print(\"Name:\", self.name)\n",
    "        print(\"Age:\", self.age)\n",
    "        print(\"Salary:\", self.salary)\n",
    "\n",
    "employee1 = Employee(\"Veer Suryavanshi\", 20, 70000)\n",
    "\n",
    "employee1.display_info() \n",
    "\n",
    "employee1.update_info(salary=100000)\n",
    "\n",
    "employee1.display_info()  \n",
    "\n",
    "employee1.update_info(age=21)\n",
    "\n",
    "employee1.display_info()  \n"
   ]
  },
  {
   "cell_type": "markdown",
   "metadata": {},
   "source": [
    "### 05) Create a bank account class with methods to deposit, withdraw, and check balance."
   ]
  },
  {
   "cell_type": "code",
   "execution_count": 26,
   "metadata": {},
   "outputs": [
    {
     "name": "stdout",
     "output_type": "stream",
     "text": [
      "Deposited: 5000\n",
      "Current Balance: 15000\n",
      "Withdrawn: 2000\n",
      "Current Balance: 13000\n",
      "Withdrawn: 3000\n",
      "Current Balance: 10000\n",
      "Current Balance: 10000\n"
     ]
    }
   ],
   "source": [
    "class BankAccount:\n",
    "    def __init__(self, account_number, initial_balance):\n",
    "        self.account_number = account_number\n",
    "        self.balance = initial_balance\n",
    "    \n",
    "    def deposit(self, amount):\n",
    "        self.balance += amount\n",
    "        print(\"Deposited:\", amount)\n",
    "        self.check_balance()\n",
    "    \n",
    "    def withdraw(self, amount):\n",
    "        if amount <= self.balance:\n",
    "            self.balance -= amount\n",
    "            print(\"Withdrawn:\", amount)\n",
    "            self.check_balance()\n",
    "        else:\n",
    "            print(\"Insufficient balance.\")\n",
    "    \n",
    "    def check_balance(self):\n",
    "        print(\"Current Balance:\", self.balance)\n",
    "\n",
    "account1 = BankAccount(1234567890, 10000)\n",
    "\n",
    "account1.deposit(5000)\n",
    "\n",
    "account1.withdraw(2000)\n",
    "\n",
    "account1.withdraw(3000)\n",
    "\n",
    "account1.check_balance()\n"
   ]
  },
  {
   "cell_type": "markdown",
   "metadata": {},
   "source": [
    "### 06) Create a class for managing inventory that includes attributes such as item name, price, quantity, and methods to add, remove, and update items."
   ]
  },
  {
   "cell_type": "code",
   "execution_count": 28,
   "metadata": {},
   "outputs": [
    {
     "name": "stdout",
     "output_type": "stream",
     "text": [
      "Item added: Laptop\n",
      "Item Name: Laptop\n",
      "Price: 10000\n",
      "Quantity: 8\n",
      "Item removed: Laptop\n",
      "Item Name: Laptop\n",
      "Price: 10000\n",
      "Quantity: 6\n",
      "Price updated: Laptop\n",
      "Item Name: Laptop\n",
      "Price: 12000\n",
      "Quantity: 6\n",
      "Item Name: Laptop\n",
      "Price: 12000\n",
      "Quantity: 6\n"
     ]
    }
   ],
   "source": [
    "class Product:\n",
    "    def __init__(self, item_name, price, quantity):\n",
    "        self.item_name = item_name\n",
    "        self.price = price\n",
    "        self.quantity = quantity\n",
    "    \n",
    "    def add_item(self, quantity):\n",
    "        self.quantity += quantity\n",
    "        print(\"Item added:\", self.item_name)\n",
    "        self.display_info()\n",
    "    \n",
    "    def remove_item(self, quantity):\n",
    "        if quantity <= self.quantity:\n",
    "            self.quantity -= quantity\n",
    "            print(\"Item removed:\", self.item_name)\n",
    "            self.display_info()\n",
    "        else:\n",
    "            print(\"Not enough items in stock.\")\n",
    "    \n",
    "    def update_price(self, new_price):\n",
    "        self.price = new_price\n",
    "        print(\"Price updated:\", self.item_name)\n",
    "        self.display_info()\n",
    "    \n",
    "    def display_info(self):\n",
    "        print(\"Item Name:\", self.item_name)\n",
    "        print(\"Price:\", self.price)\n",
    "        print(\"Quantity:\", self.quantity)\n",
    "\n",
    "product1 = Product(\"Laptop\", 10000, 5)\n",
    "\n",
    "product1.add_item(3)\n",
    "\n",
    "product1.remove_item(2)\n",
    "\n",
    "product1.update_price(12000)\n",
    "\n",
    "product1.display_info()\n"
   ]
  },
  {
   "cell_type": "markdown",
   "metadata": {},
   "source": [
    "### 07) Create a Class with instance attributes of your choice."
   ]
  },
  {
   "cell_type": "code",
   "execution_count": 40,
   "metadata": {},
   "outputs": [
    {
     "name": "stdout",
     "output_type": "stream",
     "text": [
      "Attribute 1: Hello\n",
      "Attribute 2: World\n"
     ]
    }
   ],
   "source": [
    "class MyClass:\n",
    "    def __init__(self, attribute1, attribute2):\n",
    "        self.attribute1 = attribute1\n",
    "        self.attribute2 = attribute2\n",
    "    \n",
    "    def display_attributes(self):\n",
    "        print(f'Attribute 1: {self.attribute1}')\n",
    "        print(f'Attribute 2: {self.attribute2}')\n",
    "\n",
    "my_object = MyClass('Hello', 'World')\n",
    "\n",
    "my_object.display_attributes()"
   ]
  },
  {
   "cell_type": "markdown",
   "metadata": {},
   "source": [
    "### 08) Create one class student_kit\n",
    "#### Within the student_kit class create one class attribute principal name ( Mr ABC )\n",
    "#### Create one attendance method and take input as number of days.\n",
    "#### While creating student take input their name .\n",
    "#### Create one certificate for each student by taking input of number of days present in class."
   ]
  },
  {
   "cell_type": "code",
   "execution_count": 36,
   "metadata": {},
   "outputs": [
    {
     "name": "stdout",
     "output_type": "stream",
     "text": [
      "Harsidhhi Janardan has attended 25 days in class.\n",
      "Harsidhhi Janardan has obtained 30 days of certificate.\n",
      "\n",
      "Student Info\n",
      "Student Name: Harsidhhi Janardan\n",
      "Principal Name: Mr.ABC\n",
      "Attendance: 25 days\n",
      "Certificate: 30 days\n"
     ]
    }
   ],
   "source": [
    "class StudentKit:\n",
    "    PrincipalName='Mr.ABC'\n",
    "    def __init__(self,name):\n",
    "        self.name=name\n",
    "        self.attendance=0\n",
    "        self.certificate=0\n",
    "    \n",
    "    def attendance_method(self,days):\n",
    "        self.attendance=days\n",
    "        print(f'{self.name} has attended {self.attendance} days in class.')\n",
    "\n",
    "    def certificate_method(self,days):\n",
    "        self.certificate=days\n",
    "        print(f'{self.name} has obtained {self.certificate} days of certificate.')\n",
    "    \n",
    "    def display_info(self):\n",
    "        print(f'Student Name: {self.name}\\nPrincipal Name: {self.PrincipalName}\\nAttendance: {self.attendance} days\\nCertificate: {self.certificate} days')\n",
    "    \n",
    "student1=StudentKit('Harsidhhi Janardan')\n",
    "\n",
    "student1.attendance_method(25)\n",
    "\n",
    "student1.certificate_method(30)\n",
    "\n",
    "print(\"\\nStudent Info\")\n",
    "student1.display_info()"
   ]
  },
  {
   "cell_type": "markdown",
   "metadata": {},
   "source": [
    "### 09) Define Time class with hour and minute as data member. Also define addition method to add two time objects."
   ]
  },
  {
   "cell_type": "code",
   "execution_count": 32,
   "metadata": {},
   "outputs": [
    {
     "name": "stdout",
     "output_type": "stream",
     "text": [
      "16:15\n"
     ]
    }
   ],
   "source": [
    "class Time:\n",
    "    def __init__(self, hour, minute):\n",
    "        self.hour = hour\n",
    "        self.minute = minute\n",
    "    \n",
    "    def add_time(self, other_time):\n",
    "        new_minute = self.minute + other_time.minute\n",
    "        new_hour = self.hour + other_time.hour + new_minute // 60\n",
    "        new_minute = new_minute % 60\n",
    "        return Time(new_hour, new_minute)\n",
    "    \n",
    "    def display_time(self):\n",
    "        print(f\"{self.hour:02d}:{self.minute:02d}\")\n",
    "    \n",
    "time1 = Time(10, 30)\n",
    "\n",
    "time2 = Time(5, 45)\n",
    "\n",
    "sum_time = time1.add_time(time2)\n",
    "\n",
    "sum_time.display_time()"
   ]
  },
  {
   "cell_type": "code",
   "execution_count": null,
   "metadata": {},
   "outputs": [],
   "source": []
  }
 ],
 "metadata": {
  "kernelspec": {
   "display_name": "Python 3 (ipykernel)",
   "language": "python",
   "name": "python3"
  },
  "language_info": {
   "codemirror_mode": {
    "name": "ipython",
    "version": 3
   },
   "file_extension": ".py",
   "mimetype": "text/x-python",
   "name": "python",
   "nbconvert_exporter": "python",
   "pygments_lexer": "ipython3",
   "version": "3.12.7"
  }
 },
 "nbformat": 4,
 "nbformat_minor": 4
}

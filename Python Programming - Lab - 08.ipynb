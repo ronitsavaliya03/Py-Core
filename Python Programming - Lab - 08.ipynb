{
 "cells": [
  {
   "cell_type": "markdown",
   "metadata": {},
   "source": [
    "<a href='https://www.darshan.ac.in/'> <img src='https://www.darshan.ac.in/Content/media/DU_Logo.svg' width=\"250\" height=\"300\"/></a>\n",
    "<pre>\n",
    "<center><b><h1>Python Programming - 2301CS404</b></center>\n",
    "<center><b><h1>Lab - 8</b></center>    \n",
    "<center><b><h1>Ronit Savaliya | 23010101247 | 28/1/2025</b></center>    \n",
    "<pre>"
   ]
  },
  {
   "cell_type": "markdown",
   "metadata": {},
   "source": [
    "# User Defined Function"
   ]
  },
  {
   "cell_type": "markdown",
   "metadata": {},
   "source": [
    "### 01) Write a function to calculate BMI given mass and height. (BMI = mass/h**2)"
   ]
  },
  {
   "cell_type": "code",
   "execution_count": 7,
   "metadata": {},
   "outputs": [],
   "source": [
    "def calculateBMI(mass,h):\n",
    "    BMI=mass/h**2 \n",
    "    print(BMI)"
   ]
  },
  {
   "cell_type": "markdown",
   "metadata": {},
   "source": [
    "### 02) Write a function that add first n numbers."
   ]
  },
  {
   "cell_type": "code",
   "execution_count": 19,
   "metadata": {},
   "outputs": [
    {
     "name": "stdout",
     "output_type": "stream",
     "text": [
      "15\n"
     ]
    }
   ],
   "source": [
    "def addition(n):\n",
    "    sum=0\n",
    "    for i in range(n+1):\n",
    "        sum+=i\n",
    "    print(sum)\n",
    "\n",
    "addition(5)"
   ]
  },
  {
   "cell_type": "markdown",
   "metadata": {},
   "source": [
    "### 03) Write a function that returns 1 if the given number is Prime or 0 otherwise."
   ]
  },
  {
   "cell_type": "code",
   "execution_count": 51,
   "metadata": {},
   "outputs": [
    {
     "name": "stdout",
     "output_type": "stream",
     "text": [
      "0\n"
     ]
    }
   ],
   "source": [
    "import math\n",
    "\n",
    "def checkPrime(n):\n",
    "    for i in range(2, int(math.sqrt(n)+1)):\n",
    "        if n%i==0:\n",
    "            return 0\n",
    "\n",
    "    return 1\n",
    "\n",
    "print(checkPrime(8))"
   ]
  },
  {
   "cell_type": "markdown",
   "metadata": {},
   "source": [
    "### 04) Write a function that returns the list of Prime numbers between given two numbers."
   ]
  },
  {
   "cell_type": "code",
   "execution_count": 53,
   "metadata": {},
   "outputs": [
    {
     "name": "stdout",
     "output_type": "stream",
     "text": [
      "[5, 7, 11]\n"
     ]
    }
   ],
   "source": [
    "def listOfPrime(start, end):\n",
    "    list=[]\n",
    "    for i in range(start, end+1):\n",
    "        if checkPrime(i)==1:\n",
    "            list.append(i)\n",
    "    return list\n",
    "\n",
    "print(listOfPrime(5, 11))"
   ]
  },
  {
   "cell_type": "markdown",
   "metadata": {},
   "source": [
    "### 05) Write a function that returns True if the given string is Palindrome or False otherwise."
   ]
  },
  {
   "cell_type": "code",
   "execution_count": 58,
   "metadata": {},
   "outputs": [
    {
     "name": "stdout",
     "output_type": "stream",
     "text": [
      "False\n"
     ]
    }
   ],
   "source": [
    "def isPalindrom(str):\n",
    "    if str==str[::-1]:\n",
    "        return True\n",
    "\n",
    "    return False\n",
    "\n",
    "print(isPalindrom('nitin'))"
   ]
  },
  {
   "cell_type": "markdown",
   "metadata": {},
   "source": [
    "### 06) Write a function that returns the sum of all the elements of the list."
   ]
  },
  {
   "cell_type": "code",
   "execution_count": 66,
   "metadata": {},
   "outputs": [
    {
     "name": "stdout",
     "output_type": "stream",
     "text": [
      "15\n"
     ]
    }
   ],
   "source": [
    "def sumOfList(list):\n",
    "    return sum(list)\n",
    "\n",
    "print(sumOfList([1,2,3,4,5]))"
   ]
  },
  {
   "cell_type": "markdown",
   "metadata": {},
   "source": [
    "### 07) Write a function to calculate the sum of the first element of each tuples inside the list."
   ]
  },
  {
   "cell_type": "code",
   "execution_count": 62,
   "metadata": {},
   "outputs": [
    {
     "name": "stdout",
     "output_type": "stream",
     "text": [
      "4\n"
     ]
    }
   ],
   "source": [
    "def sumOfFirstElement(list):\n",
    "    sum=0\n",
    "    for i in list:\n",
    "        sum+=i[0]\n",
    "\n",
    "    return sum\n",
    "\n",
    "print(sumOfFirstElement([(1,2,3),(3,5)]))"
   ]
  },
  {
   "cell_type": "markdown",
   "metadata": {},
   "source": [
    "### 08) Write a recursive function to find nth term of Fibonacci Series."
   ]
  },
  {
   "cell_type": "code",
   "execution_count": 70,
   "metadata": {},
   "outputs": [
    {
     "name": "stdout",
     "output_type": "stream",
     "text": [
      "8\n"
     ]
    }
   ],
   "source": [
    "# starts with 1 like 1,1,2,3,5,8,13...\n",
    "def fibonacci(n):\n",
    "    if n==0:\n",
    "        return 0\n",
    "    if n==1:\n",
    "        return 1\n",
    "\n",
    "    return fibonacci(n-1)+fibonacci(n-2)\n",
    "\n",
    "print(fibonacci(6))"
   ]
  },
  {
   "cell_type": "markdown",
   "metadata": {},
   "source": [
    "### 09) Write a function to get the name of the student based on the given rollno.\n",
    "#### Example: Given dict1 = {101:'Ajay', 102:'Rahul', 103:'Jay', 104:'Pooja'} find name of student whose rollno = 103"
   ]
  },
  {
   "cell_type": "code",
   "execution_count": 72,
   "metadata": {},
   "outputs": [
    {
     "name": "stdout",
     "output_type": "stream",
     "text": [
      "Jay\n"
     ]
    }
   ],
   "source": [
    "dict1 = {101:'Ajay', 102:'Rahul', 103:'Jay', 104:'Pooja'}\n",
    "\n",
    "def student(dict, rollno):\n",
    "    return dict[rollno]\n",
    "\n",
    "print(student(dict1, 103))"
   ]
  },
  {
   "cell_type": "markdown",
   "metadata": {},
   "source": [
    "### 10) Write a function to get the sum of the scores ending with zero.\n",
    "#### Example : scores = [200, 456, 300, 100, 234, 678] \n",
    "#### Ans = 200 + 300 + 100 = 600"
   ]
  },
  {
   "cell_type": "code",
   "execution_count": 82,
   "metadata": {},
   "outputs": [
    {
     "name": "stdout",
     "output_type": "stream",
     "text": [
      "510\n"
     ]
    }
   ],
   "source": [
    "def specialSum(list):\n",
    "    sum=0\n",
    "    for i in list:\n",
    "        if i%10==0:\n",
    "            sum+=i\n",
    "    return sum\n",
    "\n",
    "scores = [200, 456, 300, 10, 234, 678]\n",
    "print(specialSum(scores))"
   ]
  },
  {
   "cell_type": "markdown",
   "metadata": {},
   "source": [
    "### 11) Write a function to invert a given Dictionary.\n",
    "#### hint: keys to values & values to keys\n",
    "#### Before : {'a': 10, 'b':20, 'c':30, 'd':40}\n",
    "#### After : {10:'a', 20:'b', 30:'c', 40:'d'}"
   ]
  },
  {
   "cell_type": "code",
   "execution_count": 80,
   "metadata": {},
   "outputs": [
    {
     "name": "stdout",
     "output_type": "stream",
     "text": [
      "{10: 'a', 20: 'b', 30: 'c', 40: 'd'}\n"
     ]
    }
   ],
   "source": [
    "def convertDict(dict):\n",
    "    dict= {i:j for j,i in zip(dict.keys(), dict.values())}\n",
    "    return dict\n",
    "\n",
    "print(convertDict({'a': 10, 'b':20, 'c':30, 'd':40}))"
   ]
  },
  {
   "cell_type": "markdown",
   "metadata": {},
   "source": [
    "### 12) Write a function to check whether the given string is Pangram or not.\n",
    "#### hint: Pangram is a string containing all the characters a-z atlest once.\n",
    "#### \"the quick brown fox jumps over the lazy dog\" is a Pangram string."
   ]
  },
  {
   "cell_type": "code",
   "execution_count": 102,
   "metadata": {},
   "outputs": [
    {
     "name": "stdout",
     "output_type": "stream",
     "text": [
      "False\n"
     ]
    }
   ],
   "source": [
    "def isPangram(str):\n",
    "    # s=set(str)\n",
    "    # s.discard(' ')\n",
    "    # if(len(s)==26):\n",
    "    #     return True\n",
    "\n",
    "    # return False\n",
    "    str=str.lower()\n",
    "    alpha=\"qwertyuiopasdfghjklzxcvbnm\"\n",
    "\n",
    "    return all(char in str for char in alpha)\n",
    "\n",
    "print(isPangram(\"the quick brown fox jumps over the lazy dog\"))"
   ]
  },
  {
   "cell_type": "markdown",
   "metadata": {},
   "source": [
    "### 13) Write a function that returns the number of uppercase and lowercase letters in the given string. \n",
    "#### example : Input : s1 = AbcDEfgh ,Ouptput : no_upper = 3, no_lower = 5"
   ]
  },
  {
   "cell_type": "code",
   "execution_count": 104,
   "metadata": {},
   "outputs": [
    {
     "name": "stdout",
     "output_type": "stream",
     "text": [
      "(3, 5)\n"
     ]
    }
   ],
   "source": [
    "def count_upper_lower(str):\n",
    "    upper=sum(1 for char in str if char.isupper())\n",
    "    lower=sum(1 for char in str if char.islower())\n",
    "\n",
    "    return upper, lower\n",
    "\n",
    "print(count_upper_lower('AbcDEfgh'))"
   ]
  },
  {
   "cell_type": "markdown",
   "metadata": {},
   "source": [
    "### 14) Write a lambda function to get smallest number from the given two numbers."
   ]
  },
  {
   "cell_type": "code",
   "execution_count": 2,
   "metadata": {},
   "outputs": [
    {
     "name": "stdout",
     "output_type": "stream",
     "text": [
      "5\n"
     ]
    }
   ],
   "source": [
    "ans = lambda a,b: a if a<b else b\n",
    "\n",
    "print(ans(5,9))"
   ]
  },
  {
   "cell_type": "markdown",
   "metadata": {},
   "source": [
    "### 15) For the given list of names of students, extract the names having more that 7 characters. Use filter()."
   ]
  },
  {
   "cell_type": "code",
   "execution_count": 2,
   "metadata": {},
   "outputs": [
    {
     "name": "stdout",
     "output_type": "stream",
     "text": [
      "['shatrunjay', 'rudraraj', 'yashraja']\n"
     ]
    }
   ],
   "source": [
    "name=['ronit', 'shatrunjay', 'mihir', 'prem', 'vatsal', 'rudraraj', 'yashraja']\n",
    "\n",
    "selected_name=filter(lambda x: len(x)>7, name)\n",
    "print(list(selected_name))"
   ]
  },
  {
   "cell_type": "markdown",
   "metadata": {},
   "source": [
    "### 16) For the given list of names of students, convert the first letter of all the names into uppercase. use map()."
   ]
  },
  {
   "cell_type": "code",
   "execution_count": 5,
   "metadata": {},
   "outputs": [
    {
     "name": "stdout",
     "output_type": "stream",
     "text": [
      "['Ronit', 'Shatrunjay', 'Mihir', 'Prem', 'Vatsal', 'Rudraraj', 'Yashraja']\n"
     ]
    }
   ],
   "source": [
    "name=map(lambda x: x[0].upper()+x[1:], name)\n",
    "\n",
    "print(list(name))"
   ]
  },
  {
   "cell_type": "markdown",
   "metadata": {},
   "source": [
    "### 17) Write udfs to call the functions with following types of arguments:\n",
    "1. Positional Arguments\n",
    "2. Keyword Arguments\n",
    "3. Default Arguments\n",
    "4. Variable Legngth Positional(*args) & variable length Keyword Arguments (**kwargs)\n",
    "5. Keyword-Only & Positional Only Arguments"
   ]
  },
  {
   "cell_type": "code",
   "execution_count": 6,
   "metadata": {},
   "outputs": [
    {
     "name": "stdout",
     "output_type": "stream",
     "text": [
      "Positional Args: a = 1, b = 2\n",
      "Keyword Args: a = 3, b = 4\n",
      "Default Args: a = 5, b = 10\n",
      "Var Length Positional Args: (1, 2, 3), Var Length Keyword Args: {'x': 10, 'y': 20}\n",
      "Positional-Only a = 1, Normal b = 2, Keyword-Only c = 3\n"
     ]
    }
   ],
   "source": [
    "# 1. Positional Arguments\n",
    "def positional_args(a, b):\n",
    "    return f\"Positional Args: a = {a}, b = {b}\"\n",
    "\n",
    "# 2. Keyword Arguments\n",
    "def keyword_args(a, b):\n",
    "    return f\"Keyword Args: a = {a}, b = {b}\"\n",
    "\n",
    "# 3. Default Arguments\n",
    "def default_args(a, b=10):\n",
    "    return f\"Default Args: a = {a}, b = {b}\"\n",
    "\n",
    "# 4. Variable Length Positional (*args) & Variable Length Keyword Arguments (**kwargs)\n",
    "def var_length_args(*args, **kwargs):\n",
    "    return f\"Var Length Positional Args: {args}, Var Length Keyword Args: {kwargs}\"\n",
    "\n",
    "# 5. Keyword-Only & Positional-Only Arguments\n",
    "def special_args(a, /, b, *, c):\n",
    "    return f\"Positional-Only a = {a}, Normal b = {b}, Keyword-Only c = {c}\"\n",
    "\n",
    "# Calling the UDFs\n",
    "print(positional_args(1, 2))\n",
    "print(keyword_args(a=3, b=4))\n",
    "print(default_args(5)) \n",
    "print(var_length_args(1, 2, 3, x=10, y=20))\n",
    "print(special_args(1, b=2, c=3))"
   ]
  }
 ],
 "metadata": {
  "kernelspec": {
   "display_name": "Python 3",
   "language": "python",
   "name": "python3"
  },
  "language_info": {
   "codemirror_mode": {
    "name": "ipython",
    "version": 3
   },
   "file_extension": ".py",
   "mimetype": "text/x-python",
   "name": "python",
   "nbconvert_exporter": "python",
   "pygments_lexer": "ipython3",
   "version": "3.12.5"
  }
 },
 "nbformat": 4,
 "nbformat_minor": 4
}

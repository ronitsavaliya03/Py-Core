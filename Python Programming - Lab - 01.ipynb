{
 "cells": [
  {
   "cell_type": "markdown",
   "metadata": {},
   "source": [
    "<a href='https://www.darshan.ac.in/'> <img src='https://www.darshan.ac.in/Content/media/DU_Logo.svg' width=\"250\" height=\"10\"/></a>\n",
    "<pre>\n",
    "<center><b><h1>Python Programming - 2301CS404</b></center>\n",
    "<center><b><h1>Lab - 1</b></center>    \n",
    "<center><b><h1>Ronit Savaliya | 23010101247 | 26/11/2024</b></center>    \n",
    "<pre>"
   ]
  },
  {
   "cell_type": "markdown",
   "metadata": {},
   "source": [
    "### 01) WAP to print “Hello World”"
   ]
  },
  {
   "cell_type": "code",
   "execution_count": 1,
   "metadata": {},
   "outputs": [
    {
     "name": "stdout",
     "output_type": "stream",
     "text": [
      "Hello World..!\n"
     ]
    }
   ],
   "source": [
    "print(\"Hello World..!\")"
   ]
  },
  {
   "cell_type": "markdown",
   "metadata": {},
   "source": [
    "### 02) WAP to print addition of two numbers with and without using input()."
   ]
  },
  {
   "cell_type": "code",
   "execution_count": 2,
   "metadata": {},
   "outputs": [
    {
     "name": "stdout",
     "output_type": "stream",
     "text": [
      "5\n",
      "35\n"
     ]
    }
   ],
   "source": [
    "a = 2\n",
    "b = 3\n",
    "\n",
    "print(a+b)\n",
    "\n",
    "c = int(input(\"Enter the Number A:\"))\n",
    "d = int(input(\"Enter the Number B:\"))\n",
    "\n",
    "print(c+d)"
   ]
  },
  {
   "cell_type": "markdown",
   "metadata": {},
   "source": [
    "### 03) WAP to check the type of the variable."
   ]
  },
  {
   "cell_type": "code",
   "execution_count": 1,
   "metadata": {},
   "outputs": [
    {
     "name": "stdout",
     "output_type": "stream",
     "text": [
      "<class 'int'>\n",
      "<class 'float'>\n",
      "<class 'str'>\n"
     ]
    }
   ],
   "source": [
    "a = 5\n",
    "b = 9.6\n",
    "c = \"What the hell\"\n",
    "\n",
    "print(type(a))\n",
    "print(type(b))\n",
    "print(type(c))"
   ]
  },
  {
   "cell_type": "markdown",
   "metadata": {},
   "source": [
    "### 04) WAP to calculate simple interest."
   ]
  },
  {
   "cell_type": "code",
   "execution_count": 3,
   "metadata": {},
   "outputs": [
    {
     "name": "stdout",
     "output_type": "stream",
     "text": [
      "16.56\n"
     ]
    }
   ],
   "source": [
    "p = float(input(\"Enter the P:\"))\n",
    "r = float(input(\"Enter the R:\"))\n",
    "t = float(input(\"Enter the T:\"))\n",
    "\n",
    "print((p*r*t)/100)"
   ]
  },
  {
   "cell_type": "markdown",
   "metadata": {},
   "source": [
    "### 05) WAP to calculate area and perimeter of a circle."
   ]
  },
  {
   "cell_type": "code",
   "execution_count": 4,
   "metadata": {},
   "outputs": [
    {
     "name": "stdout",
     "output_type": "stream",
     "text": [
      "The area of circle: 706.8583470577034\n",
      "The perimeter of circle: 94.24777960769379\n"
     ]
    }
   ],
   "source": [
    "import math\n",
    "\n",
    "r = float(input(\"Enter the radius of circle:\"))\n",
    "\n",
    "print(\"The area of circle:\", math.pi*r*r)\n",
    "print(\"The perimeter of circle:\", 2*math.pi*r)"
   ]
  },
  {
   "cell_type": "markdown",
   "metadata": {},
   "source": [
    "### 06) WAP to calculate area of a triangle."
   ]
  },
  {
   "cell_type": "code",
   "execution_count": 5,
   "metadata": {},
   "outputs": [
    {
     "name": "stdout",
     "output_type": "stream",
     "text": [
      "The area of triangle:  759.0\n"
     ]
    }
   ],
   "source": [
    "b = float(input(\"Enter the base of triangle: \"))\n",
    "h = float(input(\"Enter the height of triangle: \"))\n",
    "\n",
    "print(\"The area of triangle: \", (0.5)*b*h)"
   ]
  },
  {
   "cell_type": "markdown",
   "metadata": {},
   "source": [
    "### 07) WAP to compute quotient and remainder."
   ]
  },
  {
   "cell_type": "code",
   "execution_count": null,
   "metadata": {},
   "outputs": [
    {
     "name": "stdout",
     "output_type": "stream",
     "text": [
      "Quotient: 0\n",
      "Remainder:  5\n",
      "Answer:  0.5555555555555556\n"
     ]
    }
   ],
   "source": [
    "a = 5\n",
    "b = 9\n",
    "\n",
    "print(f\"Quotient: {a//b}\")\n",
    "print(\"Remainder: \", (a%b))\n",
    "print(\"Answer: \",(a/b))"
   ]
  },
  {
   "cell_type": "markdown",
   "metadata": {},
   "source": [
    "### 08) WAP to convert degree into Fahrenheit and vice versa."
   ]
  },
  {
   "cell_type": "code",
   "execution_count": 13,
   "metadata": {},
   "outputs": [
    {
     "name": "stdout",
     "output_type": "stream",
     "text": [
      "Answer:  0.2777777777777778\n"
     ]
    }
   ],
   "source": [
    "check=int(input(\"Enter 0 for fahrenheit to degree\\nEnter 1 for degree to fahrenheit\"))\n",
    "\n",
    "if(check==0):\n",
    "    f = float(input(\"Enter the Fahrenheit: \"))\n",
    "    print(\"Answer: \", (5/9)*(f-32))\n",
    "elif(check==1):\n",
    "    c = float(input(\"Enter the Degree: \"))\n",
    "    print(\"Answer: \", ((9/5)*c)+32)\n",
    "else:\n",
    "    print(\"Something is wrong!\")"
   ]
  },
  {
   "cell_type": "markdown",
   "metadata": {},
   "source": [
    "### 09) WAP to find the distance between two points in 2-D space."
   ]
  },
  {
   "cell_type": "code",
   "execution_count": 14,
   "metadata": {},
   "outputs": [
    {
     "name": "stdout",
     "output_type": "stream",
     "text": [
      "Distance between two points:  4.242640687119285\n"
     ]
    }
   ],
   "source": [
    "x1 = float(input(\"Enter the x1 unit of point 1: \"))\n",
    "y1 = float(input(\"Enter the y1 unit of point 1: \"))\n",
    "x2 = float(input(\"Enter the x2 unit of point 2: \"))\n",
    "y2 = float(input(\"Enter the y2 unit of point 2: \"))\n",
    "\n",
    "result = math.sqrt(((x2-x1)**2)+((y2-y1)**2))\n",
    "\n",
    "print(\"Distance between two points: \", result)"
   ]
  },
  {
   "cell_type": "markdown",
   "metadata": {},
   "source": [
    "### 10) WAP to print sum of n natural numbers."
   ]
  },
  {
   "cell_type": "code",
   "execution_count": null,
   "metadata": {},
   "outputs": [
    {
     "name": "stdout",
     "output_type": "stream",
     "text": [
      "15\n"
     ]
    }
   ],
   "source": [
    "n = int(input(\"Enter the number: \"))\n",
    "ans=0\n",
    "\n",
    "for i in range(1,n+1):\n",
    "    ans+=i\n",
    "\n",
    "print(ans)"
   ]
  },
  {
   "cell_type": "markdown",
   "metadata": {},
   "source": [
    "### 11) WAP to print sum of square of n natural numbers."
   ]
  },
  {
   "cell_type": "code",
   "execution_count": 18,
   "metadata": {},
   "outputs": [
    {
     "name": "stdout",
     "output_type": "stream",
     "text": [
      "30\n"
     ]
    }
   ],
   "source": [
    "n = int(input(\"Enter the number: \"))\n",
    "ans=0\n",
    "\n",
    "for i in range(1,n):\n",
    "    ans+=(i**2)\n",
    "\n",
    "print(ans)"
   ]
  },
  {
   "cell_type": "markdown",
   "metadata": {},
   "source": [
    "### 12) WAP to concate the first and last name of the student."
   ]
  },
  {
   "cell_type": "code",
   "execution_count": 20,
   "metadata": {},
   "outputs": [
    {
     "name": "stdout",
     "output_type": "stream",
     "text": [
      "Ronit Savaliya\n"
     ]
    }
   ],
   "source": [
    "fname = input(\"Enter the first name:\")\n",
    "lname = input(\"Enter the last name:\")\n",
    "\n",
    "print(fname+\" \"+lname)"
   ]
  },
  {
   "cell_type": "markdown",
   "metadata": {},
   "source": [
    "### 13) WAP to swap two numbers."
   ]
  },
  {
   "cell_type": "code",
   "execution_count": 21,
   "metadata": {},
   "outputs": [
    {
     "name": "stdout",
     "output_type": "stream",
     "text": [
      "Before swap a & b: 12 23\n",
      "After swap a & b: 23 12\n"
     ]
    }
   ],
   "source": [
    "a = int(input(\"Enter the number a: \"))\n",
    "b = int(input(\"Enter the number b: \"))\n",
    "\n",
    "\n",
    "print(\"Before swap a & b:\", a, b)\n",
    "a, b = b, a\n",
    "\n",
    "print(\"After swap a & b:\", a, b)"
   ]
  },
  {
   "cell_type": "markdown",
   "metadata": {},
   "source": [
    "### 14) WAP to get the distance from user into kilometer, and convert it into meter, feet, inches and centimeter."
   ]
  },
  {
   "cell_type": "code",
   "execution_count": 22,
   "metadata": {},
   "outputs": [
    {
     "name": "stdout",
     "output_type": "stream",
     "text": [
      "12.3  km =  12300.0  m\n",
      "12.3  km =  40354.332  ft\n",
      "12.3  km =  484252.23  inch\n",
      "12.3  km =  123000.0  cm\n"
     ]
    }
   ],
   "source": [
    "km = float(input(\"Enter the distance in kilometer: \"))\n",
    "\n",
    "m = km*1000\n",
    "ft = km*3280.84\n",
    "inch = km*39370.1\n",
    "cm = km*(10**4)\n",
    "\n",
    "print(km,\" km = \",m,\" m\")\n",
    "print(km,\" km = \",ft,\" ft\")\n",
    "print(km,\" km = \",inch,\" inch\")\n",
    "print(km,\" km = \",cm,\" cm\")"
   ]
  },
  {
   "cell_type": "markdown",
   "metadata": {},
   "source": [
    "### 15) WAP to get day, month and year from the user and print the date in the given format: 23-11-2024."
   ]
  },
  {
   "cell_type": "code",
   "execution_count": 23,
   "metadata": {},
   "outputs": [
    {
     "name": "stdout",
     "output_type": "stream",
     "text": [
      "Date: 12-12-2005\n"
     ]
    }
   ],
   "source": [
    "dd = int(input(\"Enter the date: \"))\n",
    "mm = int(input(\"Enter the month: \"))\n",
    "yyyy = int(input(\"Enter the year: \"))\n",
    "\n",
    "print(f\"Date: {dd}-{mm}-{yyyy}\")"
   ]
  }
 ],
 "metadata": {
  "kernelspec": {
   "display_name": "Python 3",
   "language": "python",
   "name": "python3"
  },
  "language_info": {
   "codemirror_mode": {
    "name": "ipython",
    "version": 3
   },
   "file_extension": ".py",
   "mimetype": "text/x-python",
   "name": "python",
   "nbconvert_exporter": "python",
   "pygments_lexer": "ipython3",
   "version": "3.12.5"
  }
 },
 "nbformat": 4,
 "nbformat_minor": 4
}

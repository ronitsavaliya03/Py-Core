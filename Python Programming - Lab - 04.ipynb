{
 "cells": [
  {
   "cell_type": "markdown",
   "metadata": {},
   "source": [
    "\n",
    "<a href='https://www.darshan.ac.in/'> <img src='https://www.darshan.ac.in/Content/media/DU_Logo.svg' width=\"250\" height=\"300\"/></a>\n",
    "<pre>\n",
    "<center><b><h1>Python Programming - 2301CS404</b></center>\n",
    "<center><b><h1>Lab - 4</b></center>    \n",
    "<center><b><h1>Ronit Savaliya | 23010101247 | 17/12/2024</b></center>    \n",
    "<pre>"
   ]
  },
  {
   "cell_type": "markdown",
   "metadata": {},
   "source": [
    "# String"
   ]
  },
  {
   "cell_type": "markdown",
   "metadata": {},
   "source": [
    "### 01) WAP to check whether the given string is palindrome or not."
   ]
  },
  {
   "cell_type": "code",
   "execution_count": 17,
   "metadata": {},
   "outputs": [
    {
     "name": "stdin",
     "output_type": "stream",
     "text": [
      "Enter the String: rer\n"
     ]
    },
    {
     "name": "stdout",
     "output_type": "stream",
     "text": [
      "Number is Palindrome\n"
     ]
    }
   ],
   "source": [
    "str=input(\"Enter the String:\")\n",
    "\n",
    "if(str==str[::-1]):\n",
    "    print(\"Number is Palindrome\")\n",
    "else:\n",
    "    print(\"Number is not Palindrome\")"
   ]
  },
  {
   "cell_type": "markdown",
   "metadata": {},
   "source": [
    "### 02) WAP to reverse the words in the given string."
   ]
  },
  {
   "cell_type": "code",
   "execution_count": 6,
   "metadata": {},
   "outputs": [
    {
     "name": "stdin",
     "output_type": "stream",
     "text": [
      "Enter the String: darshan university\n"
     ]
    },
    {
     "name": "stdout",
     "output_type": "stream",
     "text": [
      "university darshan\n",
      "nahsrad ytisrevinu\n"
     ]
    }
   ],
   "source": [
    "str=input(\"Enter the String:\")\n",
    "\n",
    "temp=str.split(\" \")\n",
    "temp.reverse()\n",
    "rev1=' '.join(temp)\n",
    "\n",
    "print(rev1)\n",
    "\n",
    "rev2=str[::-1]\n",
    "rev2=rev2.split()\n",
    "rev2.reverse()\n",
    "rev2=' '.join(rev2)\n",
    "\n",
    "print(rev2)"
   ]
  },
  {
   "cell_type": "markdown",
   "metadata": {},
   "source": [
    "### 03) WAP to remove ith character from given string."
   ]
  },
  {
   "cell_type": "code",
   "execution_count": 63,
   "metadata": {},
   "outputs": [
    {
     "name": "stdin",
     "output_type": "stream",
     "text": [
      "Enter the String: ronit\n"
     ]
    },
    {
     "name": "stdout",
     "output_type": "stream",
     "text": [
      "ronit\n"
     ]
    },
    {
     "name": "stdin",
     "output_type": "stream",
     "text": [
      "ith Character which you want to remove: 1\n"
     ]
    },
    {
     "name": "stdout",
     "output_type": "stream",
     "text": [
      "rnit\n"
     ]
    }
   ],
   "source": [
    "str=input(\"Enter the String:\")\n",
    "print(str)\n",
    "\n",
    "i = int(input(\"ith Character which you want to remove:\"))\n",
    "str2 = str[:i]+str[i+1:]\n",
    "\n",
    "print(str2)"
   ]
  },
  {
   "cell_type": "markdown",
   "metadata": {},
   "source": [
    "### 04) WAP to find length of string without using len function."
   ]
  },
  {
   "cell_type": "code",
   "execution_count": 65,
   "metadata": {},
   "outputs": [
    {
     "name": "stdin",
     "output_type": "stream",
     "text": [
      "Enter the String: ronit\n"
     ]
    },
    {
     "name": "stdout",
     "output_type": "stream",
     "text": [
      "5\n"
     ]
    }
   ],
   "source": [
    "# a=1\n",
    "# b=1\n",
    "# c=a\n",
    "\n",
    "# if c is a:\n",
    "#     print('s')\n",
    "\n",
    "str=input(\"Enter the String:\")\n",
    "temp=0\n",
    "for i in str:\n",
    "    temp=temp+1\n",
    "print(temp)"
   ]
  },
  {
   "cell_type": "markdown",
   "metadata": {},
   "source": [
    "### 05) WAP to print even length word in string."
   ]
  },
  {
   "cell_type": "code",
   "execution_count": 67,
   "metadata": {},
   "outputs": [
    {
     "name": "stdin",
     "output_type": "stream",
     "text": [
      "Enter the String: ronit savaliya hello hi how\n"
     ]
    },
    {
     "name": "stdout",
     "output_type": "stream",
     "text": [
      "savaliya\n",
      "hi\n"
     ]
    }
   ],
   "source": [
    "str=input(\"Enter the String:\")\n",
    "temp=str.split(\" \")\n",
    "\n",
    "for i in temp:\n",
    "    if(len(i)%2==0):\n",
    "        print(i)"
   ]
  },
  {
   "cell_type": "markdown",
   "metadata": {},
   "source": [
    "### 06) WAP to count numbers of vowels in given string."
   ]
  },
  {
   "cell_type": "code",
   "execution_count": null,
   "metadata": {},
   "outputs": [],
   "source": [
    "str=input(\"Enter the String:\")\n",
    "count=0\n",
    "for i in str:\n",
    "    if('aeiouAEIOU'.find(i)!=-1):\n",
    "        count+=1\n",
    "\n",
    "print(count)"
   ]
  },
  {
   "cell_type": "markdown",
   "metadata": {},
   "source": [
    "### 07) WAP to capitalize the first and last character of each word in a string."
   ]
  },
  {
   "cell_type": "code",
   "execution_count": 93,
   "metadata": {},
   "outputs": [
    {
     "name": "stdin",
     "output_type": "stream",
     "text": [
      "Enter the String: ronit savaliya\n"
     ]
    },
    {
     "name": "stdout",
     "output_type": "stream",
     "text": [
      "RoniT SavaliyA\n"
     ]
    }
   ],
   "source": [
    "str=input(\"Enter the String:\")\n",
    "\n",
    "list=str.split()\n",
    "ans=[]\n",
    "\n",
    "for i in list:\n",
    "    ans.append(i[0].upper()+i[1:len(i)-1:1]+i[-1].upper())\n",
    "\n",
    "str2=' '.join(ans)\n",
    "print(str2)"
   ]
  },
  {
   "cell_type": "raw",
   "metadata": {},
   "source": [
    "### 08) WAP to convert given array to string."
   ]
  },
  {
   "cell_type": "code",
   "execution_count": 13,
   "metadata": {},
   "outputs": [
    {
     "name": "stdout",
     "output_type": "stream",
     "text": [
      "<class 'str'>\n",
      "Hello world Python\n"
     ]
    }
   ],
   "source": [
    "arr = ['Hello', 'world', 'Python']\n",
    "result = ' '.join(arr)\n",
    "# print(type(result))\n",
    "print(result)  "
   ]
  },
  {
   "cell_type": "markdown",
   "metadata": {},
   "source": [
    "### 09) Check if the password and confirm password is same or not. \n",
    "### In case of only case's mistake, show the error message."
   ]
  },
  {
   "cell_type": "code",
   "execution_count": 17,
   "metadata": {},
   "outputs": [
    {
     "name": "stdin",
     "output_type": "stream",
     "text": [
      "New Password: ronit\n",
      "Confirm Password: Ronit\n"
     ]
    },
    {
     "name": "stdout",
     "output_type": "stream",
     "text": [
      "Passwords do not match due to case sensitivity.\n"
     ]
    }
   ],
   "source": [
    "newPass=input(\"New Password:\")\n",
    "conPass=input(\"Confirm Password:\")\n",
    "\n",
    "if newPass==conPass:\n",
    "    print(\"Passwords are Same\")\n",
    "elif newPass.lower()==conPass.lower():\n",
    "    print(\"Passwords do not match due to case sensitivity.\")\n",
    "else:\n",
    "    print(\"Password are not Same\")"
   ]
  },
  {
   "cell_type": "markdown",
   "metadata": {},
   "source": [
    "### 10) : Display credit card number. \n",
    "### card no. : 1234 5678 9012 3456\n",
    "### display as  : **** **** **** 3456"
   ]
  },
  {
   "cell_type": "code",
   "execution_count": 33,
   "metadata": {},
   "outputs": [
    {
     "name": "stdin",
     "output_type": "stream",
     "text": [
      "Enter the credit card number: 1234 5678 9874 5612\n"
     ]
    },
    {
     "name": "stdout",
     "output_type": "stream",
     "text": [
      "**** **** **** 5612\n"
     ]
    }
   ],
   "source": [
    "cardNo=input(\"Enter the credit card number:\")\n",
    "\n",
    "parts=cardNo.split()\n",
    "\n",
    "for i in range(0,3):\n",
    "    parts[i]=\"****\"\n",
    "\n",
    "displayAs= ' '.join(parts)\n",
    "print(displayAs)"
   ]
  },
  {
   "cell_type": "markdown",
   "metadata": {},
   "source": [
    "### 11) : Checking if the two strings are Anagram or not.\n",
    "### s1 = decimal and s2 = medical are Anagram"
   ]
  },
  {
   "cell_type": "code",
   "execution_count": 39,
   "metadata": {},
   "outputs": [
    {
     "name": "stdin",
     "output_type": "stream",
     "text": [
      "Enter the String 1: decimal\n",
      "Enter the String 2: medical\n"
     ]
    },
    {
     "name": "stdout",
     "output_type": "stream",
     "text": [
      "The strings are anagrams.\n"
     ]
    }
   ],
   "source": [
    "str1=input(\"Enter the String 1:\")\n",
    "str2=input(\"Enter the String 2:\")\n",
    "\n",
    "str1=sorted(str1.lower())\n",
    "str2=sorted(str2.lower())\n",
    "\n",
    "if str1==str2:\n",
    "    print(\"The strings are anagrams.\")\n",
    "else:\n",
    "    print(\"The strings are not anagrams.\")"
   ]
  },
  {
   "cell_type": "markdown",
   "metadata": {},
   "source": [
    "### 12) : Rearrange the given string. First lowercase then uppercase alphabets.\n",
    "### input : EHlsarwiwhtwMV\n",
    "### output : lsarwiwhtwEHMV"
   ]
  },
  {
   "cell_type": "code",
   "execution_count": 41,
   "metadata": {},
   "outputs": [
    {
     "name": "stdin",
     "output_type": "stream",
     "text": [
      "Enter the String: EHlsarwiwhtwMV\n"
     ]
    },
    {
     "name": "stdout",
     "output_type": "stream",
     "text": [
      "lsarwiwhtwEHMV\n"
     ]
    }
   ],
   "source": [
    "str=input(\"Enter the String:\")\n",
    "\n",
    "lowercase = ''.join([c for c in str if c.islower()])\n",
    "uppercase = ''.join([c for c in str if c.isupper()])\n",
    "\n",
    "output=lowercase+uppercase\n",
    "print(output)"
   ]
  },
  {
   "cell_type": "code",
   "execution_count": null,
   "metadata": {},
   "outputs": [],
   "source": []
  }
 ],
 "metadata": {
  "kernelspec": {
   "display_name": "Python 3 (ipykernel)",
   "language": "python",
   "name": "python3"
  },
  "language_info": {
   "codemirror_mode": {
    "name": "ipython",
    "version": 3
   },
   "file_extension": ".py",
   "mimetype": "text/x-python",
   "name": "python",
   "nbconvert_exporter": "python",
   "pygments_lexer": "ipython3",
   "version": "3.12.7"
  },
  "vscode": {
   "interpreter": {
    "hash": "31f2aee4e71d21fbe5cf8b01ff0e069b9275f58929596ceb00d14d90e3e16cd6"
   }
  }
 },
 "nbformat": 4,
 "nbformat_minor": 4
}

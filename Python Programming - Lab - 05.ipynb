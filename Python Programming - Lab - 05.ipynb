{
 "cells": [
  {
   "cell_type": "markdown",
   "metadata": {},
   "source": [
    "\n",
    "<a href='https://www.darshan.ac.in/'> <img src='https://www.darshan.ac.in/Content/media/DU_Logo.svg' width=\"250\" height=\"300\"/></a>\n",
    "<pre>\n",
    "<center><b><h1>Python Programming - 2301CS404</b></center>\n",
    "<center><b><h1>Lab - 5</b></center>    \n",
    "<center><b><h1>Ronit Savaliya | 23010101247 | 24/12/2024</b></center>    \n",
    "<pre>"
   ]
  },
  {
   "cell_type": "markdown",
   "metadata": {},
   "source": [
    "# List"
   ]
  },
  {
   "cell_type": "code",
   "execution_count": 1,
   "metadata": {},
   "outputs": [],
   "source": [
    "def createList():\n",
    "    n=int(input(\"Enter the Size of list:\"))\n",
    "    list=[]\n",
    "\n",
    "    for i in range(0,n):\n",
    "        element=int(input(\"Enter the element:\"))\n",
    "        list.append(element)\n",
    "\n",
    "    return list"
   ]
  },
  {
   "cell_type": "markdown",
   "metadata": {},
   "source": [
    "### 01) WAP to find sum of all the elements in a List."
   ]
  },
  {
   "cell_type": "code",
   "execution_count": 24,
   "metadata": {},
   "outputs": [
    {
     "name": "stdin",
     "output_type": "stream",
     "text": [
      "Enter the Size of list: 5\n",
      "Enter the element: 1\n",
      "Enter the element: 2\n",
      "Enter the element: 3\n",
      "Enter the element: 4\n",
      "Enter the element: 5\n"
     ]
    },
    {
     "name": "stdout",
     "output_type": "stream",
     "text": [
      "15\n"
     ]
    }
   ],
   "source": [
    "list=createList()\n",
    "sum=0\n",
    "for i in list:\n",
    "    sum+=i\n",
    "\n",
    "print(sum)"
   ]
  },
  {
   "cell_type": "markdown",
   "metadata": {},
   "source": [
    "### 02) WAP to find largest element in a List."
   ]
  },
  {
   "cell_type": "code",
   "execution_count": 7,
   "metadata": {},
   "outputs": [
    {
     "name": "stdout",
     "output_type": "stream",
     "text": [
      "9\n"
     ]
    }
   ],
   "source": [
    "list=createList()\n",
    "list.sort()\n",
    "\n",
    "print(list[-1])"
   ]
  },
  {
   "cell_type": "markdown",
   "metadata": {},
   "source": [
    "### 03) WAP to find the length of a List."
   ]
  },
  {
   "cell_type": "code",
   "execution_count": 9,
   "metadata": {},
   "outputs": [
    {
     "name": "stdout",
     "output_type": "stream",
     "text": [
      "7\n"
     ]
    }
   ],
   "source": [
    "list=createList()\n",
    "\n",
    "print(len(list))"
   ]
  },
  {
   "cell_type": "markdown",
   "metadata": {},
   "source": [
    "### 04) WAP to interchange first and last elements in a list."
   ]
  },
  {
   "cell_type": "code",
   "execution_count": 11,
   "metadata": {},
   "outputs": [
    {
     "name": "stdout",
     "output_type": "stream",
     "text": [
      "[9, 6, 5, 9, 6, 7, 1]\n"
     ]
    }
   ],
   "source": [
    "list=createList()\n",
    "\n",
    "list[0],list[-1]=list[-1],list[0]\n",
    "\n",
    "print(list)"
   ]
  },
  {
   "cell_type": "markdown",
   "metadata": {},
   "source": [
    "### 05) WAP to split the List into two parts and append the first part to the end."
   ]
  },
  {
   "cell_type": "code",
   "execution_count": 34,
   "metadata": {},
   "outputs": [
    {
     "name": "stdin",
     "output_type": "stream",
     "text": [
      "Enter the Size of list: 3\n",
      "Enter the element: 1\n",
      "Enter the element: 2\n",
      "Enter the element: 3\n"
     ]
    },
    {
     "name": "stdout",
     "output_type": "stream",
     "text": [
      "[2, 3, 1]\n"
     ]
    }
   ],
   "source": [
    "list=createList()\n",
    "\n",
    "firstHalf=list[0:len(list)//2]\n",
    "secondHalf=list[len(list)//2:len(list)]\n",
    "\n",
    "secondHalf.extend(firstHalf)\n",
    "\n",
    "print(secondHalf)"
   ]
  },
  {
   "cell_type": "markdown",
   "metadata": {},
   "source": [
    "### 06) WAP to interchange the elements on two positions entered by a user."
   ]
  },
  {
   "cell_type": "code",
   "execution_count": 8,
   "metadata": {},
   "outputs": [
    {
     "name": "stdin",
     "output_type": "stream",
     "text": [
      "Enter the Size of list: 3\n",
      "Enter the element: 1\n",
      "Enter the element: 2\n",
      "Enter the element: 3\n"
     ]
    },
    {
     "name": "stdout",
     "output_type": "stream",
     "text": [
      "[1, 2, 3]\n"
     ]
    },
    {
     "name": "stdin",
     "output_type": "stream",
     "text": [
      "Enter the 1st position: 3\n",
      "Enter the 2nd position: 2\n"
     ]
    },
    {
     "name": "stdout",
     "output_type": "stream",
     "text": [
      "Invalid position\n",
      "[1, 2, 3]\n"
     ]
    }
   ],
   "source": [
    "list=createList()\n",
    "\n",
    "print(list)\n",
    "\n",
    "n=int(input(\"Enter the 1st position:\"))\n",
    "m=int(input(\"Enter the 2nd position:\"))\n",
    "\n",
    "if(n>=len(list) or m>=len(list)):\n",
    "    print(\"Invalid position\")\n",
    "else:\n",
    "    list[n],list[m]=list[m],list[n]\n",
    "\n",
    "print(list)"
   ]
  },
  {
   "cell_type": "markdown",
   "metadata": {},
   "source": [
    "### 07) WAP to reverse the list entered by user."
   ]
  },
  {
   "cell_type": "code",
   "execution_count": 7,
   "metadata": {},
   "outputs": [
    {
     "name": "stdin",
     "output_type": "stream",
     "text": [
      "Enter the Size of list: 3\n",
      "Enter the element: 1\n",
      "Enter the element: 2\n",
      "Enter the element: 3\n"
     ]
    },
    {
     "name": "stdout",
     "output_type": "stream",
     "text": [
      "[1, 2, 3]\n",
      "[3, 2, 1]\n"
     ]
    }
   ],
   "source": [
    "list=createList()\n",
    "\n",
    "print(list)\n",
    "list.reverse()\n",
    "print(list)"
   ]
  },
  {
   "cell_type": "markdown",
   "metadata": {},
   "source": [
    "### 08) WAP to print even numbers in a list."
   ]
  },
  {
   "cell_type": "code",
   "execution_count": 9,
   "metadata": {},
   "outputs": [
    {
     "name": "stdin",
     "output_type": "stream",
     "text": [
      "Enter the Size of list: 5\n",
      "Enter the element: 1\n",
      "Enter the element: 2\n",
      "Enter the element: 3\n",
      "Enter the element: 4\n",
      "Enter the element: 5\n"
     ]
    },
    {
     "name": "stdout",
     "output_type": "stream",
     "text": [
      "[1, 2, 3, 4, 5]\n",
      "[2, 4]\n"
     ]
    }
   ],
   "source": [
    "list=createList()\n",
    "\n",
    "print(list)\n",
    "\n",
    "evenList=[]\n",
    "for i in list:\n",
    "    if(i%2==0):\n",
    "        evenList.append(i)\n",
    "\n",
    "print(evenList)"
   ]
  },
  {
   "cell_type": "markdown",
   "metadata": {},
   "source": [
    "### 09) WAP to count unique items in a list."
   ]
  },
  {
   "cell_type": "code",
   "execution_count": 5,
   "metadata": {},
   "outputs": [
    {
     "name": "stdin",
     "output_type": "stream",
     "text": [
      "Enter the Size of list: 3\n",
      "Enter the element: 1\n",
      "Enter the element: 2\n",
      "Enter the element: 1\n"
     ]
    },
    {
     "name": "stdout",
     "output_type": "stream",
     "text": [
      "[1, 2, 1]\n",
      "2\n"
     ]
    }
   ],
   "source": [
    "list=createList()\n",
    "print(list)\n",
    "\n",
    "# convertSet=set(list)\n",
    "# list=list(convertSet)\n",
    "\n",
    "print(len(set(list)))"
   ]
  },
  {
   "cell_type": "markdown",
   "metadata": {},
   "source": [
    "### 10) WAP to copy a list."
   ]
  },
  {
   "cell_type": "code",
   "execution_count": 7,
   "metadata": {},
   "outputs": [
    {
     "name": "stdin",
     "output_type": "stream",
     "text": [
      "Enter the Size of list: 5\n",
      "Enter the element: 1\n",
      "Enter the element: 2\n",
      "Enter the element: 3\n",
      "Enter the element: 4\n",
      "Enter the element: 5\n"
     ]
    },
    {
     "name": "stdout",
     "output_type": "stream",
     "text": [
      "[1, 2, 3, 4, 5]\n",
      "[1, 2, 3, 4, 5]\n"
     ]
    }
   ],
   "source": [
    "list=createList()\n",
    "print(list)\n",
    "\n",
    "copyList=list.copy()\n",
    "\n",
    "print(copyList)"
   ]
  },
  {
   "cell_type": "markdown",
   "metadata": {},
   "source": [
    "### 11) WAP to print all odd numbers in a given range."
   ]
  },
  {
   "cell_type": "code",
   "execution_count": 9,
   "metadata": {},
   "outputs": [
    {
     "name": "stdin",
     "output_type": "stream",
     "text": [
      "Enter the Size of list: 6\n",
      "Enter the element: 1\n",
      "Enter the element: 2\n",
      "Enter the element: 3\n",
      "Enter the element: 4\n",
      "Enter the element: 5\n",
      "Enter the element: 6\n"
     ]
    },
    {
     "name": "stdout",
     "output_type": "stream",
     "text": [
      "[1, 2, 3, 4, 5, 6]\n"
     ]
    },
    {
     "name": "stdin",
     "output_type": "stream",
     "text": [
      "Enter the 1st position: 2\n",
      "Enter the 2nd position: 5\n"
     ]
    },
    {
     "name": "stdout",
     "output_type": "stream",
     "text": [
      "[3, 5]\n"
     ]
    }
   ],
   "source": [
    "list=createList()\n",
    "\n",
    "print(list)\n",
    "\n",
    "oddList=[]\n",
    "n=int(input(\"Enter the 1st position:\"))\n",
    "m=int(input(\"Enter the 2nd position:\"))\n",
    "\n",
    "for i in list[n:m]:\n",
    "    if(i%2!=0):\n",
    "        oddList.append(i)\n",
    "\n",
    "print(oddList)"
   ]
  },
  {
   "cell_type": "markdown",
   "metadata": {},
   "source": [
    "### 12) WAP to count occurrences of an element in a list."
   ]
  },
  {
   "cell_type": "code",
   "execution_count": 25,
   "metadata": {},
   "outputs": [
    {
     "name": "stdin",
     "output_type": "stream",
     "text": [
      "Enter the Size of list: 5\n",
      "Enter the element: 1\n",
      "Enter the element: 1\n",
      "Enter the element: 2\n",
      "Enter the element: 2\n",
      "Enter the element: 3\n"
     ]
    },
    {
     "name": "stdout",
     "output_type": "stream",
     "text": [
      "{1: 2, 2: 2, 3: 1}\n"
     ]
    }
   ],
   "source": [
    "list=createList()\n",
    "\n",
    "dictionary=dict.fromkeys(list,0)\n",
    "\n",
    "for i in list:\n",
    "    dictionary[i]=dictionary.get(i)+1\n",
    "\n",
    "print(dictionary)"
   ]
  },
  {
   "cell_type": "markdown",
   "metadata": {},
   "source": [
    "### 13) WAP to find second largest number in a list."
   ]
  },
  {
   "cell_type": "code",
   "execution_count": 11,
   "metadata": {},
   "outputs": [
    {
     "name": "stdin",
     "output_type": "stream",
     "text": [
      "Enter the Size of list: 5\n",
      "Enter the element: 6\n",
      "Enter the element: 2\n",
      "Enter the element: 3\n",
      "Enter the element: 5\n",
      "Enter the element: 9\n"
     ]
    },
    {
     "name": "stdout",
     "output_type": "stream",
     "text": [
      "6\n"
     ]
    }
   ],
   "source": [
    "list=createList()\n",
    "\n",
    "list.sort()\n",
    "secondLargest=list[-2]\n",
    "\n",
    "print(secondLargest)"
   ]
  },
  {
   "cell_type": "markdown",
   "metadata": {},
   "source": [
    "### 14) WAP to extract elements with frequency greater than K."
   ]
  },
  {
   "cell_type": "code",
   "execution_count": 9,
   "metadata": {},
   "outputs": [
    {
     "name": "stdin",
     "output_type": "stream",
     "text": [
      "Enter the Size of list: 6\n",
      "Enter the element: 1\n",
      "Enter the element: 1\n",
      "Enter the element: 2\n",
      "Enter the element: 2\n",
      "Enter the element: 3\n",
      "Enter the element: 4\n",
      "Enter the K: 2\n"
     ]
    },
    {
     "name": "stdout",
     "output_type": "stream",
     "text": [
      "[1, 2]\n"
     ]
    }
   ],
   "source": [
    "list=createList()\n",
    "\n",
    "dictionary=dict.fromkeys(list,0)\n",
    "\n",
    "for i in list:\n",
    "    dictionary[i]=dictionary.get(i)+1\n",
    "\n",
    "k=int(input(\"Enter the K:\"))\n",
    "\n",
    "keys = [key for key, val in dictionary.items() if val == k]\n",
    "print(keys)"
   ]
  },
  {
   "cell_type": "markdown",
   "metadata": {},
   "source": [
    "### 15) WAP to create a list of squared numbers from 0 to 9 with and without using List Comprehension."
   ]
  },
  {
   "cell_type": "code",
   "execution_count": 15,
   "metadata": {},
   "outputs": [
    {
     "name": "stdin",
     "output_type": "stream",
     "text": [
      "Enter the Size of list: 10\n",
      "Enter the element: 0\n",
      "Enter the element: 1\n",
      "Enter the element: 2\n",
      "Enter the element: 3\n",
      "Enter the element: 4\n",
      "Enter the element: 5\n",
      "Enter the element: 6\n",
      "Enter the element: 7\n",
      "Enter the element: 8\n",
      "Enter the element: 9\n"
     ]
    },
    {
     "name": "stdout",
     "output_type": "stream",
     "text": [
      "[0, 1, 4, 9, 16, 25, 36, 49, 64, 81]\n"
     ]
    }
   ],
   "source": [
    "list= [i**2 for i in createList()]\n",
    "print(list)"
   ]
  },
  {
   "cell_type": "markdown",
   "metadata": {},
   "source": [
    "### 16) WAP to create a new list (fruit whose name starts with 'b') from the list of fruits given by user."
   ]
  },
  {
   "cell_type": "code",
   "execution_count": 19,
   "metadata": {},
   "outputs": [
    {
     "name": "stdout",
     "output_type": "stream",
     "text": [
      "['banana', 'balloon berry', 'banana melon']\n"
     ]
    }
   ],
   "source": [
    "list=['apple', 'pineapple', 'kiwi', 'banana', 'balloon berry', 'banana melon']\n",
    "bList=[]\n",
    "\n",
    "for i in list:\n",
    "    if i[0]=='b':\n",
    "        bList.append(i)\n",
    "\n",
    "print(bList)"
   ]
  },
  {
   "cell_type": "markdown",
   "metadata": {},
   "source": [
    "### 17) WAP to create a list of common elements from given two lists."
   ]
  },
  {
   "cell_type": "code",
   "execution_count": 3,
   "metadata": {},
   "outputs": [
    {
     "name": "stdin",
     "output_type": "stream",
     "text": [
      "Enter the Size of list: 5\n",
      "Enter the element: 1\n",
      "Enter the element: 2\n",
      "Enter the element: 3\n",
      "Enter the element: 4\n",
      "Enter the element: 5\n"
     ]
    },
    {
     "name": "stdout",
     "output_type": "stream",
     "text": [
      "[1, 2, 3, 4, 5]\n"
     ]
    },
    {
     "name": "stdin",
     "output_type": "stream",
     "text": [
      "Enter the Size of list: 5\n",
      "Enter the element: 1\n",
      "Enter the element: 3\n",
      "Enter the element: 5\n",
      "Enter the element: 6\n",
      "Enter the element: 9\n"
     ]
    },
    {
     "name": "stdout",
     "output_type": "stream",
     "text": [
      "[1, 3, 5, 6, 9]\n",
      "[1, 3, 5]\n"
     ]
    }
   ],
   "source": [
    "list1=createList()\n",
    "print(list1)\n",
    "\n",
    "list2=createList()\n",
    "print(list2)\n",
    "\n",
    "commonList=[]\n",
    "\n",
    "for val in list1:\n",
    "    if val in list2:\n",
    "        commonList.append(val)\n",
    "        \n",
    "print(commonList)"
   ]
  }
 ],
 "metadata": {
  "kernelspec": {
   "display_name": "Python 3 (ipykernel)",
   "language": "python",
   "name": "python3"
  },
  "language_info": {
   "codemirror_mode": {
    "name": "ipython",
    "version": 3
   },
   "file_extension": ".py",
   "mimetype": "text/x-python",
   "name": "python",
   "nbconvert_exporter": "python",
   "pygments_lexer": "ipython3",
   "version": "3.12.7"
  }
 },
 "nbformat": 4,
 "nbformat_minor": 4
}
